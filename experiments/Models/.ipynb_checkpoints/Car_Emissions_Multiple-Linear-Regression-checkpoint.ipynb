{
 "cells": [
  {
   "cell_type": "markdown",
   "metadata": {
    "button": false,
    "new_sheet": false,
    "run_control": {
     "read_only": false
    }
   },
   "source": [
    "#  <center> #FUNWITHDATA </center>\n",
    "     \n",
    "#### <center>Notebook 2 : Multiple Linear Regression</center>\n",
    "\n",
    "\n",
    "This is the second notebook in my series on modelling for car emissions prediction models. Please go through the first notebook on [Simple Linear rgression on car emissions](https://github.com/wgova/Car_emissions/blob/master/Car%20emissions%20-%20Simple-Linear-Regression.ipynb) where the data is preprocessed and preliminary prediction power of variables is investigated using **Pearson Coefficients**. This notebook follows on modelling with variables identified to have a strong coerrelation and modelling power."
   ]
  },
  {
   "cell_type": "markdown",
   "metadata": {
    "button": false,
    "new_sheet": false,
    "run_control": {
     "read_only": false
    }
   },
   "source": [
    "### Packages needed"
   ]
  },
  {
   "cell_type": "code",
   "execution_count": 1,
   "metadata": {
    "button": false,
    "new_sheet": false,
    "run_control": {
     "read_only": false
    }
   },
   "outputs": [],
   "source": [
    "import matplotlib.pyplot as plt\n",
    "import pandas as pd\n",
    "import pylab as pl\n",
    "import numpy as np\n",
    "from scipy.stats import pearsonr\n",
    "%matplotlib inline"
   ]
  },
  {
   "cell_type": "markdown",
   "metadata": {
    "button": false,
    "new_sheet": false,
    "run_control": {
     "read_only": false
    }
   },
   "source": [
    "### Downloading and reading the data\n",
    "The data is available in my respository along with the notebookT for download. "
   ]
  },
  {
   "cell_type": "code",
   "execution_count": 4,
   "metadata": {
    "button": false,
    "new_sheet": false,
    "run_control": {
     "read_only": false
    }
   },
   "outputs": [],
   "source": [
    "data = \"../Data/Car_Emissions_Fuel.csv\"\n",
    "df = pd.read_csv(data)"
   ]
  },
  {
   "cell_type": "code",
   "execution_count": 5,
   "metadata": {},
   "outputs": [
    {
     "data": {
      "text/html": [
       "<div>\n",
       "<style scoped>\n",
       "    .dataframe tbody tr th:only-of-type {\n",
       "        vertical-align: middle;\n",
       "    }\n",
       "\n",
       "    .dataframe tbody tr th {\n",
       "        vertical-align: top;\n",
       "    }\n",
       "\n",
       "    .dataframe thead th {\n",
       "        text-align: right;\n",
       "    }\n",
       "</style>\n",
       "<table border=\"1\" class=\"dataframe\">\n",
       "  <thead>\n",
       "    <tr style=\"text-align: right;\">\n",
       "      <th></th>\n",
       "      <th>Unnamed: 0</th>\n",
       "      <th>MODELYEAR</th>\n",
       "      <th>ENGINESIZE</th>\n",
       "      <th>CYLINDERS</th>\n",
       "      <th>City_FC</th>\n",
       "      <th>HWY_FC</th>\n",
       "      <th>COMB_FC</th>\n",
       "      <th>COMB_MPG_FC</th>\n",
       "      <th>CO2EMISSIONS</th>\n",
       "      <th>Diesel</th>\n",
       "      <th>Ethanol</th>\n",
       "      <th>Gasoline</th>\n",
       "      <th>Prem_Gasoline</th>\n",
       "    </tr>\n",
       "  </thead>\n",
       "  <tbody>\n",
       "    <tr>\n",
       "      <th>count</th>\n",
       "      <td>1067.000000</td>\n",
       "      <td>1067.0</td>\n",
       "      <td>1067.000000</td>\n",
       "      <td>1067.000000</td>\n",
       "      <td>1067.000000</td>\n",
       "      <td>1067.000000</td>\n",
       "      <td>1067.000000</td>\n",
       "      <td>1067.000000</td>\n",
       "      <td>1067.000000</td>\n",
       "      <td>1067.000000</td>\n",
       "      <td>1067.000000</td>\n",
       "      <td>1067.000000</td>\n",
       "      <td>1067.000000</td>\n",
       "    </tr>\n",
       "    <tr>\n",
       "      <th>mean</th>\n",
       "      <td>533.000000</td>\n",
       "      <td>2014.0</td>\n",
       "      <td>3.346298</td>\n",
       "      <td>5.794752</td>\n",
       "      <td>13.296532</td>\n",
       "      <td>9.474602</td>\n",
       "      <td>11.580881</td>\n",
       "      <td>26.441425</td>\n",
       "      <td>256.228679</td>\n",
       "      <td>0.025305</td>\n",
       "      <td>0.086223</td>\n",
       "      <td>0.481724</td>\n",
       "      <td>0.406748</td>\n",
       "    </tr>\n",
       "    <tr>\n",
       "      <th>std</th>\n",
       "      <td>308.160672</td>\n",
       "      <td>0.0</td>\n",
       "      <td>1.415895</td>\n",
       "      <td>1.797447</td>\n",
       "      <td>4.101253</td>\n",
       "      <td>2.794510</td>\n",
       "      <td>3.485595</td>\n",
       "      <td>7.468702</td>\n",
       "      <td>63.372304</td>\n",
       "      <td>0.157122</td>\n",
       "      <td>0.280825</td>\n",
       "      <td>0.499900</td>\n",
       "      <td>0.491457</td>\n",
       "    </tr>\n",
       "    <tr>\n",
       "      <th>min</th>\n",
       "      <td>0.000000</td>\n",
       "      <td>2014.0</td>\n",
       "      <td>1.000000</td>\n",
       "      <td>3.000000</td>\n",
       "      <td>4.600000</td>\n",
       "      <td>4.900000</td>\n",
       "      <td>4.700000</td>\n",
       "      <td>11.000000</td>\n",
       "      <td>108.000000</td>\n",
       "      <td>0.000000</td>\n",
       "      <td>0.000000</td>\n",
       "      <td>0.000000</td>\n",
       "      <td>0.000000</td>\n",
       "    </tr>\n",
       "    <tr>\n",
       "      <th>25%</th>\n",
       "      <td>266.500000</td>\n",
       "      <td>2014.0</td>\n",
       "      <td>2.000000</td>\n",
       "      <td>4.000000</td>\n",
       "      <td>10.250000</td>\n",
       "      <td>7.500000</td>\n",
       "      <td>9.000000</td>\n",
       "      <td>21.000000</td>\n",
       "      <td>207.000000</td>\n",
       "      <td>0.000000</td>\n",
       "      <td>0.000000</td>\n",
       "      <td>0.000000</td>\n",
       "      <td>0.000000</td>\n",
       "    </tr>\n",
       "    <tr>\n",
       "      <th>50%</th>\n",
       "      <td>533.000000</td>\n",
       "      <td>2014.0</td>\n",
       "      <td>3.400000</td>\n",
       "      <td>6.000000</td>\n",
       "      <td>12.600000</td>\n",
       "      <td>8.800000</td>\n",
       "      <td>10.900000</td>\n",
       "      <td>26.000000</td>\n",
       "      <td>251.000000</td>\n",
       "      <td>0.000000</td>\n",
       "      <td>0.000000</td>\n",
       "      <td>0.000000</td>\n",
       "      <td>0.000000</td>\n",
       "    </tr>\n",
       "    <tr>\n",
       "      <th>75%</th>\n",
       "      <td>799.500000</td>\n",
       "      <td>2014.0</td>\n",
       "      <td>4.300000</td>\n",
       "      <td>8.000000</td>\n",
       "      <td>15.550000</td>\n",
       "      <td>10.850000</td>\n",
       "      <td>13.350000</td>\n",
       "      <td>31.000000</td>\n",
       "      <td>294.000000</td>\n",
       "      <td>0.000000</td>\n",
       "      <td>0.000000</td>\n",
       "      <td>1.000000</td>\n",
       "      <td>1.000000</td>\n",
       "    </tr>\n",
       "    <tr>\n",
       "      <th>max</th>\n",
       "      <td>1066.000000</td>\n",
       "      <td>2014.0</td>\n",
       "      <td>8.400000</td>\n",
       "      <td>12.000000</td>\n",
       "      <td>30.200000</td>\n",
       "      <td>20.500000</td>\n",
       "      <td>25.800000</td>\n",
       "      <td>60.000000</td>\n",
       "      <td>488.000000</td>\n",
       "      <td>1.000000</td>\n",
       "      <td>1.000000</td>\n",
       "      <td>1.000000</td>\n",
       "      <td>1.000000</td>\n",
       "    </tr>\n",
       "  </tbody>\n",
       "</table>\n",
       "</div>"
      ],
      "text/plain": [
       "        Unnamed: 0  MODELYEAR   ENGINESIZE    CYLINDERS      City_FC  \\\n",
       "count  1067.000000     1067.0  1067.000000  1067.000000  1067.000000   \n",
       "mean    533.000000     2014.0     3.346298     5.794752    13.296532   \n",
       "std     308.160672        0.0     1.415895     1.797447     4.101253   \n",
       "min       0.000000     2014.0     1.000000     3.000000     4.600000   \n",
       "25%     266.500000     2014.0     2.000000     4.000000    10.250000   \n",
       "50%     533.000000     2014.0     3.400000     6.000000    12.600000   \n",
       "75%     799.500000     2014.0     4.300000     8.000000    15.550000   \n",
       "max    1066.000000     2014.0     8.400000    12.000000    30.200000   \n",
       "\n",
       "            HWY_FC      COMB_FC  COMB_MPG_FC  CO2EMISSIONS       Diesel  \\\n",
       "count  1067.000000  1067.000000  1067.000000   1067.000000  1067.000000   \n",
       "mean      9.474602    11.580881    26.441425    256.228679     0.025305   \n",
       "std       2.794510     3.485595     7.468702     63.372304     0.157122   \n",
       "min       4.900000     4.700000    11.000000    108.000000     0.000000   \n",
       "25%       7.500000     9.000000    21.000000    207.000000     0.000000   \n",
       "50%       8.800000    10.900000    26.000000    251.000000     0.000000   \n",
       "75%      10.850000    13.350000    31.000000    294.000000     0.000000   \n",
       "max      20.500000    25.800000    60.000000    488.000000     1.000000   \n",
       "\n",
       "           Ethanol     Gasoline  Prem_Gasoline  \n",
       "count  1067.000000  1067.000000    1067.000000  \n",
       "mean      0.086223     0.481724       0.406748  \n",
       "std       0.280825     0.499900       0.491457  \n",
       "min       0.000000     0.000000       0.000000  \n",
       "25%       0.000000     0.000000       0.000000  \n",
       "50%       0.000000     0.000000       0.000000  \n",
       "75%       0.000000     1.000000       1.000000  \n",
       "max       1.000000     1.000000       1.000000  "
      ]
     },
     "execution_count": 5,
     "metadata": {},
     "output_type": "execute_result"
    }
   ],
   "source": [
    "df.describe()"
   ]
  },
  {
   "cell_type": "code",
   "execution_count": 6,
   "metadata": {},
   "outputs": [
    {
     "data": {
      "text/html": [
       "<div>\n",
       "<style scoped>\n",
       "    .dataframe tbody tr th:only-of-type {\n",
       "        vertical-align: middle;\n",
       "    }\n",
       "\n",
       "    .dataframe tbody tr th {\n",
       "        vertical-align: top;\n",
       "    }\n",
       "\n",
       "    .dataframe thead th {\n",
       "        text-align: right;\n",
       "    }\n",
       "</style>\n",
       "<table border=\"1\" class=\"dataframe\">\n",
       "  <thead>\n",
       "    <tr style=\"text-align: right;\">\n",
       "      <th></th>\n",
       "      <th>MAKE</th>\n",
       "      <th>MODEL</th>\n",
       "      <th>VEHICLECLASS</th>\n",
       "      <th>TRANSMISSION</th>\n",
       "    </tr>\n",
       "  </thead>\n",
       "  <tbody>\n",
       "    <tr>\n",
       "      <th>count</th>\n",
       "      <td>1067</td>\n",
       "      <td>1067</td>\n",
       "      <td>1067</td>\n",
       "      <td>1067</td>\n",
       "    </tr>\n",
       "    <tr>\n",
       "      <th>unique</th>\n",
       "      <td>39</td>\n",
       "      <td>663</td>\n",
       "      <td>16</td>\n",
       "      <td>22</td>\n",
       "    </tr>\n",
       "    <tr>\n",
       "      <th>top</th>\n",
       "      <td>FORD</td>\n",
       "      <td>F150 FFV 4X4</td>\n",
       "      <td>MID-SIZE</td>\n",
       "      <td>A6</td>\n",
       "    </tr>\n",
       "    <tr>\n",
       "      <th>freq</th>\n",
       "      <td>90</td>\n",
       "      <td>8</td>\n",
       "      <td>178</td>\n",
       "      <td>222</td>\n",
       "    </tr>\n",
       "  </tbody>\n",
       "</table>\n",
       "</div>"
      ],
      "text/plain": [
       "        MAKE         MODEL VEHICLECLASS TRANSMISSION\n",
       "count   1067          1067         1067         1067\n",
       "unique    39           663           16           22\n",
       "top     FORD  F150 FFV 4X4     MID-SIZE           A6\n",
       "freq      90             8          178          222"
      ]
     },
     "execution_count": 6,
     "metadata": {},
     "output_type": "execute_result"
    }
   ],
   "source": [
    "df.describe(include='object')"
   ]
  },
  {
   "cell_type": "code",
   "execution_count": 8,
   "metadata": {},
   "outputs": [],
   "source": [
    "inputs_df = df[['ENGINESIZE','CYLINDERS','City_FC','HWY_FC','COMB_FC','COMB_MPG_FC',\n",
    "          'Gasoline','Prem_Gasoline','CO2EMISSIONS']]"
   ]
  },
  {
   "cell_type": "code",
   "execution_count": 10,
   "metadata": {},
   "outputs": [
    {
     "data": {
      "text/html": [
       "<div>\n",
       "<style scoped>\n",
       "    .dataframe tbody tr th:only-of-type {\n",
       "        vertical-align: middle;\n",
       "    }\n",
       "\n",
       "    .dataframe tbody tr th {\n",
       "        vertical-align: top;\n",
       "    }\n",
       "\n",
       "    .dataframe thead th {\n",
       "        text-align: right;\n",
       "    }\n",
       "</style>\n",
       "<table border=\"1\" class=\"dataframe\">\n",
       "  <thead>\n",
       "    <tr style=\"text-align: right;\">\n",
       "      <th></th>\n",
       "      <th>ENGINESIZE</th>\n",
       "      <th>CYLINDERS</th>\n",
       "      <th>City_FC</th>\n",
       "      <th>HWY_FC</th>\n",
       "      <th>COMB_FC</th>\n",
       "      <th>COMB_MPG_FC</th>\n",
       "      <th>Gasoline</th>\n",
       "      <th>Prem_Gasoline</th>\n",
       "      <th>CO2EMISSIONS</th>\n",
       "    </tr>\n",
       "  </thead>\n",
       "  <tbody>\n",
       "    <tr>\n",
       "      <th>ENGINESIZE</th>\n",
       "      <td>1.000000</td>\n",
       "      <td>0.934011</td>\n",
       "      <td>0.832225</td>\n",
       "      <td>0.778746</td>\n",
       "      <td>0.819482</td>\n",
       "      <td>-0.808554</td>\n",
       "      <td>-0.266920</td>\n",
       "      <td>0.165557</td>\n",
       "      <td>0.874154</td>\n",
       "    </tr>\n",
       "    <tr>\n",
       "      <th>CYLINDERS</th>\n",
       "      <td>0.934011</td>\n",
       "      <td>1.000000</td>\n",
       "      <td>0.796473</td>\n",
       "      <td>0.724594</td>\n",
       "      <td>0.776788</td>\n",
       "      <td>-0.770430</td>\n",
       "      <td>-0.339827</td>\n",
       "      <td>0.256011</td>\n",
       "      <td>0.849685</td>\n",
       "    </tr>\n",
       "    <tr>\n",
       "      <th>City_FC</th>\n",
       "      <td>0.832225</td>\n",
       "      <td>0.796473</td>\n",
       "      <td>1.000000</td>\n",
       "      <td>0.965718</td>\n",
       "      <td>0.995542</td>\n",
       "      <td>-0.935613</td>\n",
       "      <td>-0.319701</td>\n",
       "      <td>0.045660</td>\n",
       "      <td>0.898039</td>\n",
       "    </tr>\n",
       "    <tr>\n",
       "      <th>HWY_FC</th>\n",
       "      <td>0.778746</td>\n",
       "      <td>0.724594</td>\n",
       "      <td>0.965718</td>\n",
       "      <td>1.000000</td>\n",
       "      <td>0.985804</td>\n",
       "      <td>-0.893809</td>\n",
       "      <td>-0.269105</td>\n",
       "      <td>-0.018973</td>\n",
       "      <td>0.861748</td>\n",
       "    </tr>\n",
       "    <tr>\n",
       "      <th>COMB_FC</th>\n",
       "      <td>0.819482</td>\n",
       "      <td>0.776788</td>\n",
       "      <td>0.995542</td>\n",
       "      <td>0.985804</td>\n",
       "      <td>1.000000</td>\n",
       "      <td>-0.927965</td>\n",
       "      <td>-0.303950</td>\n",
       "      <td>0.022451</td>\n",
       "      <td>0.892129</td>\n",
       "    </tr>\n",
       "    <tr>\n",
       "      <th>COMB_MPG_FC</th>\n",
       "      <td>-0.808554</td>\n",
       "      <td>-0.770430</td>\n",
       "      <td>-0.935613</td>\n",
       "      <td>-0.893809</td>\n",
       "      <td>-0.927965</td>\n",
       "      <td>1.000000</td>\n",
       "      <td>0.300779</td>\n",
       "      <td>-0.119499</td>\n",
       "      <td>-0.906394</td>\n",
       "    </tr>\n",
       "    <tr>\n",
       "      <th>Gasoline</th>\n",
       "      <td>-0.266920</td>\n",
       "      <td>-0.339827</td>\n",
       "      <td>-0.319701</td>\n",
       "      <td>-0.269105</td>\n",
       "      <td>-0.303950</td>\n",
       "      <td>0.300779</td>\n",
       "      <td>1.000000</td>\n",
       "      <td>-0.798292</td>\n",
       "      <td>-0.230304</td>\n",
       "    </tr>\n",
       "    <tr>\n",
       "      <th>Prem_Gasoline</th>\n",
       "      <td>0.165557</td>\n",
       "      <td>0.256011</td>\n",
       "      <td>0.045660</td>\n",
       "      <td>-0.018973</td>\n",
       "      <td>0.022451</td>\n",
       "      <td>-0.119499</td>\n",
       "      <td>-0.798292</td>\n",
       "      <td>1.000000</td>\n",
       "      <td>0.160804</td>\n",
       "    </tr>\n",
       "    <tr>\n",
       "      <th>CO2EMISSIONS</th>\n",
       "      <td>0.874154</td>\n",
       "      <td>0.849685</td>\n",
       "      <td>0.898039</td>\n",
       "      <td>0.861748</td>\n",
       "      <td>0.892129</td>\n",
       "      <td>-0.906394</td>\n",
       "      <td>-0.230304</td>\n",
       "      <td>0.160804</td>\n",
       "      <td>1.000000</td>\n",
       "    </tr>\n",
       "  </tbody>\n",
       "</table>\n",
       "</div>"
      ],
      "text/plain": [
       "               ENGINESIZE  CYLINDERS   City_FC    HWY_FC   COMB_FC  \\\n",
       "ENGINESIZE       1.000000   0.934011  0.832225  0.778746  0.819482   \n",
       "CYLINDERS        0.934011   1.000000  0.796473  0.724594  0.776788   \n",
       "City_FC          0.832225   0.796473  1.000000  0.965718  0.995542   \n",
       "HWY_FC           0.778746   0.724594  0.965718  1.000000  0.985804   \n",
       "COMB_FC          0.819482   0.776788  0.995542  0.985804  1.000000   \n",
       "COMB_MPG_FC     -0.808554  -0.770430 -0.935613 -0.893809 -0.927965   \n",
       "Gasoline        -0.266920  -0.339827 -0.319701 -0.269105 -0.303950   \n",
       "Prem_Gasoline    0.165557   0.256011  0.045660 -0.018973  0.022451   \n",
       "CO2EMISSIONS     0.874154   0.849685  0.898039  0.861748  0.892129   \n",
       "\n",
       "               COMB_MPG_FC  Gasoline  Prem_Gasoline  CO2EMISSIONS  \n",
       "ENGINESIZE       -0.808554 -0.266920       0.165557      0.874154  \n",
       "CYLINDERS        -0.770430 -0.339827       0.256011      0.849685  \n",
       "City_FC          -0.935613 -0.319701       0.045660      0.898039  \n",
       "HWY_FC           -0.893809 -0.269105      -0.018973      0.861748  \n",
       "COMB_FC          -0.927965 -0.303950       0.022451      0.892129  \n",
       "COMB_MPG_FC       1.000000  0.300779      -0.119499     -0.906394  \n",
       "Gasoline          0.300779  1.000000      -0.798292     -0.230304  \n",
       "Prem_Gasoline    -0.119499 -0.798292       1.000000      0.160804  \n",
       "CO2EMISSIONS     -0.906394 -0.230304       0.160804      1.000000  "
      ]
     },
     "execution_count": 10,
     "metadata": {},
     "output_type": "execute_result"
    }
   ],
   "source": [
    "inputs_df.corr()"
   ]
  },
  {
   "cell_type": "markdown",
   "metadata": {
    "button": false,
    "new_sheet": false,
    "run_control": {
     "read_only": false
    }
   },
   "source": [
    "## Description of the data\n",
    "\n",
    "The data contains a 2014 fuel consumption dataset with model-specific fuel consumption ratings and estimated carbon dioxide emissions for new light-duty vehicles for retail sale in Canada. For the pursposes of this project, only numerical variables will be extracted for modelling. \n",
    "\n",
    "- **MAKE** e.g. Acura\n",
    "- **MODEL** include 4WD/4X4 = Four-wheel drive,  AWD = All-wheel drive, CNG = Compressed natural gas, FFV = Flexible-fuel vehicle, NGV = Natural gas vehicle\n",
    "- **ENGINE SIZE** e.g. 4.7\n",
    "- **CYLINDERS** e.g 6\n",
    "- **TRANSMISSION** A = Automatic, AM = Automated manual, AS = Automatic with select shift, AV = Continuously variable, M = Manual, 3 – 10 = Number of gears\n",
    "- **FUEL CONSUMPTION (City,HWY,COMB)** City and highway fuel consumption ratings litres per 100 kilometres (L/100 km) - combined rating (55% city, 45% hwy) in L/100 km and in miles per gallon (mpg)\n",
    "- **CO2 EMISSIONS (g/km)** Estimated tailpipe carbon dioxide emissions (in grams per kilometre) based on fuel type and the combined fuel consumption rating.\n",
    "- **FUELTYPE** - X = Regular gasoline, Z = Premium gasoline, D = Diesel, E = Ethanol (E85), N = Natural Gas\n"
   ]
  },
  {
   "cell_type": "markdown",
   "metadata": {
    "button": false,
    "new_sheet": false,
    "run_control": {
     "read_only": false
    }
   },
   "source": [
    "## Subsetting for modelling"
   ]
  },
  {
   "cell_type": "markdown",
   "metadata": {},
   "source": [
    "Lets select some features that we want to use for regression."
   ]
  },
  {
   "cell_type": "code",
   "execution_count": 14,
   "metadata": {
    "button": false,
    "new_sheet": false,
    "run_control": {
     "read_only": false
    }
   },
   "outputs": [],
   "source": [
    "inputs_df = df[['ENGINESIZE','CYLINDERS','City_FC','HWY_FC','COMB_FC','COMB_MPG_FC',\n",
    "          'Gasoline','Prem_Gasoline','CO2EMISSIONS']]"
   ]
  },
  {
   "cell_type": "markdown",
   "metadata": {
    "button": false,
    "new_sheet": false,
    "run_control": {
     "read_only": false
    }
   },
   "source": [
    "#### Create training and testing dataset from our \n",
    "The dataset is split into training and testing sets, in the ratio 70%: 30% respectively using a mask to select random rows."
   ]
  },
  {
   "cell_type": "code",
   "execution_count": 15,
   "metadata": {
    "button": false,
    "new_sheet": false,
    "run_control": {
     "read_only": false
    }
   },
   "outputs": [
    {
     "name": "stdout",
     "output_type": "stream",
     "text": [
      "Training samples 746\n",
      "Testing samples:  321\n"
     ]
    },
    {
     "name": "stderr",
     "output_type": "stream",
     "text": [
      "C:\\Users\\Mecer\\Anaconda3\\lib\\site-packages\\sklearn\\model_selection\\_split.py:2026: FutureWarning: From version 0.21, test_size will always complement train_size unless both are specified.\n",
      "  FutureWarning)\n"
     ]
    }
   ],
   "source": [
    "from sklearn.model_selection import train_test_split as tts\n",
    "\n",
    "# Split data into test (30%) and training (70%) sets\n",
    "train_data, test_data = tts(inputs_df,train_size=0.7)\n",
    "\n",
    "print(\"Training samples\", train_data.shape[0])\n",
    "print(\"Testing samples: \", test_data.shape[0])"
   ]
  },
  {
   "cell_type": "markdown",
   "metadata": {
    "button": false,
    "new_sheet": false,
    "run_control": {
     "read_only": false
    }
   },
   "source": [
    "## Multiple Regression Model\n"
   ]
  },
  {
   "cell_type": "markdown",
   "metadata": {},
   "source": [
    "At this point, it is important to go back to the question and ensure our model is fit-for-purpose. Firstly, our model must predict car features that maximise carbon emissions. With this in mind, only features with a strong positive correlation will be useful, but in reality, the negative correlations will reduce the emissions predicted by our model. We should keep this in mind for now. Secondly, in order to select variables that have a strong linear relationship, we will start by evaluating features that **maximise R-squared and minimise MSE (RMSE)**"
   ]
  },
  {
   "cell_type": "code",
   "execution_count": 16,
   "metadata": {},
   "outputs": [],
   "source": [
    "features = ['ENGINESIZE','CYLINDERS','City_FC','HWY_FC','COMB_FC','COMB_MPG_FC']\n",
    "slr_evaluation = {'Feature': features,\n",
    "                  'Pearson Correlation Coefficient x100': [87,85,90,86,89,-91], \n",
    "\n",
    "                  #'Mean absolute error': [22.38,25.90,20.26,23.60,20.70,18.06],\n",
    "#'MSE x10': [85.989,113.18,81.954,100.843,83.780,72.808],\n",
    "                  'RMSE': [29.18,32.36,28.89,33.17,29.69,27.42],\n",
    "                  'R2-score (%)': [76,73,81,74,80,82]}\n",
    "slr_df = pd.DataFrame(slr_evaluation\n",
    "                      , columns=['Feature',\n",
    "                                 'Pearson Correlation Coefficient x100',\n",
    "                                 #'Mean absolute error',\n",
    "                                 #'MSE x10',\n",
    "                                 'RMSE',\n",
    "                                 'R2-score (%)'])"
   ]
  },
  {
   "cell_type": "code",
   "execution_count": 17,
   "metadata": {},
   "outputs": [
    {
     "data": {
      "text/plain": [
       "<matplotlib.axes._subplots.AxesSubplot at 0x1b7cbe43860>"
      ]
     },
     "execution_count": 17,
     "metadata": {},
     "output_type": "execute_result"
    },
    {
     "data": {
      "image/png": "[encoded data removed]",
      "text/plain": [
       "<Figure size 432x288 with 1 Axes>"
      ]
     },
     "metadata": {},
     "output_type": "display_data"
    }
   ],
   "source": [
    "df = slr_df.groupby(['Feature'])[\n",
    "    'Pearson Correlation Coefficient x100',\n",
    "    #'Mean absolute error',\n",
    "    #'MSE x10',\n",
    "    'RMSE',\n",
    "    'R2-score (%)']\n",
    "df.sum().plot.bar() #(kind='bar')"
   ]
  },
  {
   "cell_type": "markdown",
   "metadata": {},
   "source": [
    "The most important ones for now are (ranked in order of importance):\n",
    " - City_FC\n",
    " - COMB_FC\n",
    " - ENGINESIZE\n",
    " - CYLINDERS\n",
    " - HWY_FC\n",
    " - COMB_MPG_FC (not important)"
   ]
  },
  {
   "cell_type": "code",
   "execution_count": 18,
   "metadata": {},
   "outputs": [],
   "source": [
    "# To fit the regression line to the test data\n",
    "from sklearn.linear_model import LinearRegression as lreg\n",
    "# For calculating model metrics\n",
    "from sklearn import metrics\n",
    "from sklearn.metrics import r2_score"
   ]
  },
  {
   "cell_type": "code",
   "execution_count": 19,
   "metadata": {},
   "outputs": [],
   "source": [
    "# Extract the training data for emissions\n",
    "y = train_data[['CO2EMISSIONS']]"
   ]
  },
  {
   "cell_type": "code",
   "execution_count": 20,
   "metadata": {},
   "outputs": [],
   "source": [
    "# Define regression lines for data subsets \n",
    "line = lreg() ; line_City = lreg()\n",
    "line_Hwy = lreg(); line_City_Hwy = lreg()\n",
    "line_Gas = lreg() ; line_PGas = lreg()\n",
    "line_CMPG = lreg() ; line_CFC = lreg()\n",
    "line_ES = lreg() ; line_Cy = lreg()\n",
    "line_G_PGas = lreg(); line_CMPG_Hwy = lreg()"
   ]
  },
  {
   "cell_type": "code",
   "execution_count": 21,
   "metadata": {},
   "outputs": [],
   "source": [
    "# Extract the data subsets to be fitted to the regression line\n",
    "x = train_data[['ENGINESIZE','CYLINDERS','City_FC','HWY_FC','COMB_FC','COMB_MPG_FC','Gasoline','Prem_Gasoline']]\n",
    "x_City = train_data[['ENGINESIZE','CYLINDERS','HWY_FC','COMB_FC','COMB_MPG_FC','Gasoline','Prem_Gasoline']]\n",
    "x_Hwy = train_data[['ENGINESIZE','CYLINDERS','City_FC','COMB_FC','COMB_MPG_FC','Gasoline','Prem_Gasoline']]\n",
    "x_City_Hwy = train_data[['ENGINESIZE','CYLINDERS','COMB_FC','COMB_MPG_FC','Gasoline','Prem_Gasoline']]\n",
    "\n",
    "x_Gas = train_data[['ENGINESIZE','CYLINDERS','City_FC','HWY_FC','COMB_FC','COMB_MPG_FC',\n",
    "                        'Prem_Gasoline']] # Excl Gasoline\n",
    "x_PGas = train_data[['ENGINESIZE','CYLINDERS','City_FC','HWY_FC','COMB_FC','COMB_MPG_FC',\n",
    "                         'Gasoline']] # Excl Prem_Gasoline\n",
    "x_CMPG = train_data[['ENGINESIZE','CYLINDERS','City_FC','HWY_FC','COMB_FC','Gasoline',\n",
    "                         'Prem_Gasoline']] # ExclCOMB_MPG_FC\n",
    "x_CFC = train_data[['ENGINESIZE','CYLINDERS','City_FC','HWY_FC','COMB_MPG_FC','Gasoline',\n",
    "                        'Prem_Gasoline']] # Excl COMB_FC\n",
    "x_ES = train_data[['CYLINDERS','City_FC','HWY_FC','COMB_FC','COMB_MPG_FC','Gasoline',\n",
    "                       'Prem_Gasoline']] #Excl EngineSize\n",
    "x_Cy = train_data[['ENGINESIZE','City_FC','HWY_FC','COMB_FC','COMB_MPG_FC','Gasoline',\n",
    "                       'Prem_Gasoline']] #Excl Cylinders\n",
    "x_G_PGas = train_data[['ENGINESIZE','CYLINDERS','City_FC','HWY_FC','COMB_FC',\n",
    "                           'COMB_MPG_FC']] #Excl Gasoline & Prem_Gasoline'\n",
    "x_CMPG_Hwy = train_data[['ENGINESIZE','CYLINDERS','City_FC','HWY_FC','COMB_FC','COMB_MPG_FC','Gasoline',\n",
    "                             'Prem_Gasoline']] #Excl COMB_MPG_FC & HWY_FC'"
   ]
  },
  {
   "cell_type": "code",
   "execution_count": 22,
   "metadata": {},
   "outputs": [
    {
     "data": {
      "text/plain": [
       "LinearRegression(copy_X=True, fit_intercept=True, n_jobs=1, normalize=False)"
      ]
     },
     "execution_count": 22,
     "metadata": {},
     "output_type": "execute_result"
    }
   ],
   "source": [
    "line.fit(x,y) # Train the model with the full training data set\n",
    "line_City.fit(x_City,y) # Train the model with the training data set excluding City_FC\n",
    "line_Hwy.fit(x_Hwy,y) # Train the model with the training data set excluding HWY_FC\n",
    "line_City_Hwy.fit(x_City_Hwy,y) # Train the model with the training data set excluding City_FC & HWY_FC\n",
    "\n",
    "\n",
    "line_Gas.fit(x_Gas,y) ; line_PGas.fit(x_PGas,y)\n",
    "line_CMPG.fit(x_CMPG,y) ; line_CFC.fit(x_CFC,y)\n",
    "line_ES.fit(x_ES,y) ; line_Cy.fit(x_Cy,y)\n",
    "line_G_PGas.fit(x_G_PGas,y); line_CMPG_Hwy.fit(x_CMPG_Hwy,y)\n"
   ]
  },
  {
   "cell_type": "code",
   "execution_count": 23,
   "metadata": {},
   "outputs": [],
   "source": [
    "#To get values for coefficients and intercepts for the regressions lines \n",
    "#print ('All_Coefficients: ', line.coef_, ' \\nIntercept: ', line.intercept_)\n",
    "#print ('\\nCity -Coefficients: ', line_City.coef_, '\\n Intercept: ', line_City.intercept_)\n",
    "#print ('\\nHWY - Coefficients: ', line_Hwy.coef_, ' \\nIntercept: ', line_Hwy.intercept_)\n",
    "#print ('\\nCity_Hwy - Coefficients: ', line_City_Hwy.coef_, ' \\nIntercept: ', line_City_Hwy.intercept_)"
   ]
  },
  {
   "cell_type": "markdown",
   "metadata": {},
   "source": [
    "#### Ordinary Least Squares (OLS)\n",
    "\n",
    "Scikit-learn uses plain Ordinary Least Squares method to solve the intercept and coefficients of the hyperplane. OLS is a method for estimating the unknown parameters in a linear regression model by minimizing the **sum of squared errors (SSE)** or **mean squared error (MSE)** between the target variable (y) and our predicted output (y-hat) over all samples in the dataset. OLS finds the best parameters by:\n",
    "- Solving the model parameters analytically using closed-form equations\n",
    "- Using an optimization algorithm (Gradient Descent, Stochastic Gradient Descent, Newton’s Method, etc.)"
   ]
  },
  {
   "cell_type": "markdown",
   "metadata": {},
   "source": [
    "#### Model evaluation\n",
    "\n",
    "First, a visualisation of the test resulsts can help us make a quick judgement call on how good our model is"
   ]
  },
  {
   "cell_type": "code",
   "execution_count": 25,
   "metadata": {},
   "outputs": [],
   "source": [
    "y_test = test_data[['CO2EMISSIONS']]"
   ]
  },
  {
   "cell_type": "code",
   "execution_count": 27,
   "metadata": {},
   "outputs": [],
   "source": [
    "# Create data subsets for modelling\n",
    "x_test = test_data[['ENGINESIZE','CYLINDERS','City_FC','HWY_FC','COMB_FC','COMB_MPG_FC','Gasoline','Prem_Gasoline']]\n",
    "x_City_test = test_data[['ENGINESIZE','CYLINDERS','HWY_FC','COMB_FC','COMB_MPG_FC','Gasoline','Prem_Gasoline']]\n",
    "x_Hwy_test = test_data[['ENGINESIZE','CYLINDERS','City_FC','COMB_FC','COMB_MPG_FC','Gasoline','Prem_Gasoline']]\n",
    "x_City_Hwy_test = test_data[['ENGINESIZE','CYLINDERS','COMB_FC','COMB_MPG_FC','Gasoline','Prem_Gasoline']]\n",
    "\n",
    "#Other subsets that were considered\n",
    "x_test_Gas = test_data[['ENGINESIZE','CYLINDERS','City_FC','HWY_FC','COMB_FC','COMB_MPG_FC',\n",
    "                        'Prem_Gasoline']] # Excl Gasoline\n",
    "x_test_PGas = test_data[['ENGINESIZE','CYLINDERS','City_FC','HWY_FC','COMB_FC','COMB_MPG_FC',\n",
    "                         'Gasoline']] # Excl Prem_Gasoline\n",
    "x_test_CMPG = test_data[['ENGINESIZE','CYLINDERS','City_FC','HWY_FC','COMB_FC','Gasoline',\n",
    "                         'Prem_Gasoline']] # ExclCOMB_MPG_FC\n",
    "x_test_CFC = test_data[['ENGINESIZE','CYLINDERS','City_FC','HWY_FC','COMB_MPG_FC','Gasoline',\n",
    "                        'Prem_Gasoline']] # Excl COMB_FC\n",
    "x_test_ES = test_data[['CYLINDERS','City_FC','HWY_FC','COMB_FC','COMB_MPG_FC','Gasoline',\n",
    "                       'Prem_Gasoline']] #Excl EngineSize\n",
    "x_test_Cy = test_data[['ENGINESIZE','City_FC','HWY_FC','COMB_FC','COMB_MPG_FC','Gasoline',\n",
    "                       'Prem_Gasoline']] #Excl Cylinders\n",
    "x_test_G_PGas = test_data[['ENGINESIZE','CYLINDERS','City_FC','HWY_FC','COMB_FC',\n",
    "                           'COMB_MPG_FC']] #Excl Gasoline & Prem_Gasoline'\n",
    "x_test_CMPG_Hwy = test_data[['ENGINESIZE','CYLINDERS','City_FC','HWY_FC','COMB_FC','COMB_MPG_FC','Gasoline',\n",
    "                             'Prem_Gasoline']] #Excl COMB_MPG_FC & HWY_FC'\n"
   ]
  },
  {
   "cell_type": "code",
   "execution_count": 29,
   "metadata": {},
   "outputs": [],
   "source": [
    "# Test the model by predicting values for the test data set\n",
    "y_pred = line.predict(x_test) \n",
    "y_pred_City = line_City.predict(x_City_test)\n",
    "y_pred_Hwy = line_Hwy.predict(x_Hwy_test)\n",
    "y_pred_City_Hwy = line_City_Hwy.predict(x_City_Hwy_test)\n",
    "\n",
    "#Optional models\n",
    "y_pred_Gas = line_Gas.predict(x_test_Gas) \n",
    "y_pred_PGas = line_PGas.predict(x_test_PGas)\n",
    "y_pred_CMPG = line_CMPG.predict(x_test_CMPG)\n",
    "y_pred_CFC = line_CFC.predict(x_test_CFC)\n",
    "y_pred_ES = line_ES.predict(x_test_ES) \n",
    "y_pred_Cy = line_Cy.predict(x_test_Cy)\n",
    "y_pred_G_PGas = line_G_PGas.predict(x_test_G_PGas)\n",
    "y_pred_CMPG_Hwy = line_CMPG_Hwy.predict(x_test_CMPG_Hwy)"
   ]
  },
  {
   "cell_type": "code",
   "execution_count": 150,
   "metadata": {},
   "outputs": [],
   "source": [
    "import seaborn as sns \n",
    "def DistributionPlot(RedFunction,BlueFunction,RedName,BlueName,Title,xlabel ): # \n",
    "    #width = 4 ; height = 4\n",
    "    #plt.figure(figsize=(width, height))\n",
    "\n",
    "    ax1 = sns.distplot(RedFunction, kde=True, \n",
    "                       color=\"grey\", label=RedName)\n",
    "    ax2 = sns.distplot(BlueFunction, hist=False, \n",
    "                       color=\"blue\", label=BlueName, ax=ax1)\n",
    "    \n",
    "    plt.title(Title)\n",
    "    plt.xlabel(xlabel)\n",
    "    plt.ylabel(\"Carbon dioxide Emissions\"); plt.show; #plt.close()"
   ]
  },
  {
   "cell_type": "code",
   "execution_count": 151,
   "metadata": {},
   "outputs": [
    {
     "name": "stderr",
     "output_type": "stream",
     "text": [
      "C:\\Users\\Mecer\\Anaconda3\\lib\\site-packages\\matplotlib\\axes\\_axes.py:6571: UserWarning: The 'normed' kwarg is deprecated, and has been replaced by the 'density' kwarg.\n",
      "  warnings.warn(\"The 'normed' kwarg is deprecated, and has been \"\n",
      "C:\\Users\\Mecer\\Anaconda3\\lib\\site-packages\\matplotlib\\axes\\_axes.py:6571: UserWarning: The 'normed' kwarg is deprecated, and has been replaced by the 'density' kwarg.\n",
      "  warnings.warn(\"The 'normed' kwarg is deprecated, and has been \"\n",
      "C:\\Users\\Mecer\\Anaconda3\\lib\\site-packages\\matplotlib\\axes\\_axes.py:6571: UserWarning: The 'normed' kwarg is deprecated, and has been replaced by the 'density' kwarg.\n",
      "  warnings.warn(\"The 'normed' kwarg is deprecated, and has been \"\n",
      "C:\\Users\\Mecer\\Anaconda3\\lib\\site-packages\\matplotlib\\axes\\_axes.py:6571: UserWarning: The 'normed' kwarg is deprecated, and has been replaced by the 'density' kwarg.\n",
      "  warnings.warn(\"The 'normed' kwarg is deprecated, and has been \"\n",
      "C:\\Users\\Mecer\\Anaconda3\\lib\\site-packages\\matplotlib\\axes\\_axes.py:6571: UserWarning: The 'normed' kwarg is deprecated, and has been replaced by the 'density' kwarg.\n",
      "  warnings.warn(\"The 'normed' kwarg is deprecated, and has been \"\n",
      "C:\\Users\\Mecer\\Anaconda3\\lib\\site-packages\\matplotlib\\axes\\_axes.py:6571: UserWarning: The 'normed' kwarg is deprecated, and has been replaced by the 'density' kwarg.\n",
      "  warnings.warn(\"The 'normed' kwarg is deprecated, and has been \"\n"
     ]
    },
    {
     "data": {
      "image/png": "[encoded data removed]",
      "text/plain": [
       "<Figure size 936x576 with 6 Axes>"
      ]
     },
     "metadata": {},
     "output_type": "display_data"
    }
   ],
   "source": [
    "plt.figure(figsize=(13,8))\n",
    "\n",
    "plt.subplot(3, 2, 1)\n",
    "DistributionPlot(y_test,y_pred,\"Actual Emissions\",\"Predicted Emissions\",\n",
    "                 \"Emissions predictions modelling with \\n all car features\",\"All car features\")\n",
    "\n",
    "plt.subplot(3, 2, 2)\n",
    "DistributionPlot(y_test,y_pred_City,\"Actual Emissions\",\"Predicted Emissions\",\n",
    "                 \"Emissions model predictions excluding \\n City Fuel Consumption\",\"Excluding CITY_FC\")\n",
    "\n",
    "plt.subplot(3, 2, 3)\n",
    "DistributionPlot(y_test,y_pred_Hwy,\"Actual Emissions\",\"Predicted Emissions\",\n",
    "                 \"Emissions model predictions excluding \\n Highway Fuel Consumption\",\"Excluding HWY_FC\")\n",
    "\n",
    "plt.subplot(3, 2, 4)\n",
    "DistributionPlot(y_test, y_pred_City_Hwy,\"Actual Emissions\",\"Predicted Emissions\",\n",
    "                 \"Emissions model predictions excluding \\n City & Highway Fuel Consumption\",\"Excluding CITY_FC & HWY_FC\")\n",
    "\n",
    "plt.subplot(3, 2, 5)\n",
    "DistributionPlot(y_test, y_pred_Gas,\"Actual Emissions\",\"Predicted Emissions\",\n",
    "                 \"Emissions model predictions excluding \\n Gasoline\",\"Excluding Gasoline\")\n",
    "\n",
    "plt.subplot(3, 2, 6)\n",
    "DistributionPlot(y_test, y_pred_G_PGas,\"Actual Emissions\",\"Predicted Emissions\",\n",
    "                 \"Emissions model predictions excluding \\nGasoline & Premium Gasoline\",\"Excluding Gasoline & Prem_Gasoline\")\n",
    "\n",
    "plt.tight_layout()\n",
    "plt.show()"
   ]
  },
  {
   "cell_type": "markdown",
   "metadata": {},
   "source": [
    "##### Mathematical Model Evaluation metrics\n",
    "\n",
    "As with Simple linear regression, the objective is to maximise the explained variance ($R-squared$), and minimise the average error, or mean square error (MSE), therefore, its root - root mean square error (RMSE).\n",
    "\n",
    "Each of these scores is calculated as shown in the calculations below:"
   ]
  },
  {
   "cell_type": "code",
   "execution_count": 68,
   "metadata": {},
   "outputs": [],
   "source": [
    "#Calculate each individual variance score for selected models to be evaluated (*100 to fit the scale)\n",
    "#Store the results in a variable to be used later for plotting \n",
    "r2_all = 100*r2_score(y_test,y_pred)\n",
    "r2_City = 100*r2_score(y_test, y_pred_City)\n",
    "r2_Hwy = 100*r2_score(y_test, y_pred_Hwy)\n",
    "r2_Gas = 100*r2_score(y_test, y_pred_Gas)\n",
    "r2_PGas = 100*r2_score(y_test, y_pred_PGas)\n",
    "r2_CMPG = 100*r2_score(y_test, y_pred_CMPG)\n",
    "r2_CFC = 100*r2_score(y_test, y_pred_CFC)\n",
    "r2_ES = 100*r2_score(y_test, y_pred_ES)\n",
    "r2_Cy = 100*r2_score(y_test, y_pred_Cy)\n",
    "r2_City_Hwy = 100*r2_score(y_test, y_pred_City_Hwy)\n",
    "r2_G_PGas = 100*r2_score(y_test, y_pred_G_PGas)\n",
    "r2_CMPG_Hwy = 100*r2_score(y_test, y_pred_CMPG_Hwy)"
   ]
  },
  {
   "cell_type": "code",
   "execution_count": 69,
   "metadata": {},
   "outputs": [],
   "source": [
    "#Calculate each individual RMSE value for selected models to be evaluated\n",
    "#Store the results in a variable to be used later for plotting\n",
    "rmse_all = np.sqrt(metrics.mean_squared_error(y_test,y_pred))\n",
    "rmse_City = np.sqrt(metrics.mean_squared_error(y_test, y_pred_City))\n",
    "rmse_Hwy = np.sqrt(metrics.mean_squared_error(y_test, y_pred_Hwy))\n",
    "rmse_Gas = np.sqrt(metrics.mean_squared_error(y_test, y_pred_Gas))\n",
    "rmse_PGas = np.sqrt(metrics.mean_squared_error(y_test, y_pred_PGas))\n",
    "rmse_CMPG = np.sqrt(metrics.mean_squared_error(y_test, y_pred_CMPG))\n",
    "rmse_CFC = np.sqrt(metrics.mean_squared_error(y_test, y_pred_CFC))\n",
    "rmse_ES = np.sqrt(metrics.mean_squared_error(y_test, y_pred_ES))\n",
    "rmse_Cy = np.sqrt(metrics.mean_squared_error(y_test, y_pred_Cy))\n",
    "rmse_City_Hwy = np.sqrt(metrics.mean_squared_error(y_test, y_pred_City_Hwy))\n",
    "rmse_G_PGas = np.sqrt(metrics.mean_squared_error(y_test, y_pred_G_PGas))\n",
    "rmse_CMPG_Hwy = np.sqrt(metrics.mean_squared_error(y_test, y_pred_CMPG_Hwy))"
   ]
  },
  {
   "cell_type": "code",
   "execution_count": 113,
   "metadata": {},
   "outputs": [],
   "source": [
    "# Calculate metrics for the 'All-features' MLR model\n",
    "#print(\"Explained variance score (R-squared): %.2f\" % r2_all) # Calculate R-sqrd for the model using test data set\n",
    "#print(\"RMSE:%.2f\" % rmse_all)\n",
    "#print(\"MAE: %.2f\" % metrics.mean_absolute_error(y_test, y_pred))\n",
    "#print(\"MSE:%.2f\" % metrics.mean_squared_error(y_test, y_pred))"
   ]
  },
  {
   "cell_type": "code",
   "execution_count": 112,
   "metadata": {},
   "outputs": [],
   "source": [
    "# Calculate metrics for the 'All-features' MLR model\n",
    "#print(\"R-squared (Variance score): %.2f\" % r2_score(y_test, y_pred_City))\n",
    "#print(\"RMSE:%.2f\" %  np.sqrt(metrics.mean_squared_error(y_test, y_pred_City)))\n",
    "#print(\"MSE:%.2f\" % metrics.mean_squared_error(y_test, y_pred_City))\n",
    "#print(\"MAE: %.2f\" % metrics.mean_absolute_error(y_test, y_pred_City))"
   ]
  },
  {
   "cell_type": "code",
   "execution_count": 114,
   "metadata": {},
   "outputs": [],
   "source": [
    "# Calculate metrics for the 'All-features' MLR model\n",
    "#print(\"R-squared (Variance score): %.2f\" % r2_score(y_test, y_pred_Hwy))\n",
    "#print(\"RMSE:%.2f\" %  np.sqrt(metrics.mean_squared_error(y_test, y_pred_Hwy)))\n",
    "#print(\"MSE:%.2f\" % metrics.mean_squared_error(y_test, y_pred_Hwy))\n",
    "#print(\"MAE: %.2f\" % metrics.mean_absolute_error(y_test, y_pred_Hwy))"
   ]
  },
  {
   "cell_type": "code",
   "execution_count": 115,
   "metadata": {},
   "outputs": [],
   "source": [
    "# Calculate metrics for the 'All-features' MLR model\n",
    "#print(\"R-squared (Variance score): %.2f\" % r2_score(y_test, y_pred_City_Hwy))\n",
    "#print(\"RMSE:%.2f\" %  np.sqrt(metrics.mean_squared_error(y_test, y_pred_City_Hwy)))\n",
    "#print(\"MSE:%.2f\" % metrics.mean_squared_error(y_test, y_pred_City_Hwy))\n",
    "#print(\"MAE: %.2f\" % metrics.mean_absolute_error(y_test, y_pred_City_Hwy))"
   ]
  },
  {
   "cell_type": "markdown",
   "metadata": {},
   "source": [
    "Create a dataframe with all the scores (RMSE and Exaplained Variance) for the different MLR models  "
   ]
  },
  {
   "cell_type": "code",
   "execution_count": 161,
   "metadata": {},
   "outputs": [
    {
     "data": {
      "text/html": [
       "<div>\n",
       "<style scoped>\n",
       "    .dataframe tbody tr th:only-of-type {\n",
       "        vertical-align: middle;\n",
       "    }\n",
       "\n",
       "    .dataframe tbody tr th {\n",
       "        vertical-align: top;\n",
       "    }\n",
       "\n",
       "    .dataframe thead th {\n",
       "        text-align: right;\n",
       "    }\n",
       "</style>\n",
       "<table border=\"1\" class=\"dataframe\">\n",
       "  <thead>\n",
       "    <tr style=\"text-align: right;\">\n",
       "      <th></th>\n",
       "      <th>Feature</th>\n",
       "      <th>Root Mean \n",
       " Square Error (RMSE)</th>\n",
       "      <th>Explained variance (%)</th>\n",
       "    </tr>\n",
       "  </thead>\n",
       "  <tbody>\n",
       "    <tr>\n",
       "      <th>0</th>\n",
       "      <td>All_8(+Gasoline \\n Prem_Gasoline)</td>\n",
       "      <td>19.374368</td>\n",
       "      <td>90.482367</td>\n",
       "    </tr>\n",
       "    <tr>\n",
       "      <th>1</th>\n",
       "      <td>Excl City_FC</td>\n",
       "      <td>19.412761</td>\n",
       "      <td>90.444608</td>\n",
       "    </tr>\n",
       "  </tbody>\n",
       "</table>\n",
       "</div>"
      ],
      "text/plain": [
       "                             Feature  Root Mean \\n Square Error (RMSE)  \\\n",
       "0  All_8(+Gasoline \\n Prem_Gasoline)                         19.374368   \n",
       "1                       Excl City_FC                         19.412761   \n",
       "\n",
       "   Explained variance (%)  \n",
       "0               90.482367  \n",
       "1               90.444608  "
      ]
     },
     "execution_count": 161,
     "metadata": {},
     "output_type": "execute_result"
    }
   ],
   "source": [
    "# Create a list the row labels for row entries for the scores data\n",
    "features = ['All_8(+Gasoline \\n Prem_Gasoline)','Excl City_FC','Excl HWY_FC','Excl Gasoline','Excl Prem_Gasoline',\n",
    "            'Excl COMB_MPG_FC','Excl COMB_FC','Excl ENGINESIZE','Excl CYLINDERS','Excl City_FC \\n & HWY_FC',\n",
    "            'Excl Gasoline & \\n Prem_Gasoline','Excl COMB_MPG_FC &\\n HWY_FC']\n",
    "\n",
    "# Create a list to store row entries for RMSE \n",
    "rmse = [rmse_all,rmse_City,rmse_Hwy, rmse_Gas,rmse_PGas,rmse_CMPG,rmse_CFC,rmse_ES,rmse_Cy,rmse_City_Hwy,rmse_G_PGas, \n",
    "        rmse_CMPG_Hwy]\n",
    "\n",
    "# Create a list to store row entries for Explained variance \n",
    "rsqr = [r2_all,r2_City,r2_Hwy, r2_Gas,r2_PGas,r2_CMPG,r2_CFC,r2_ES,r2_Cy,r2_City_Hwy,r2_G_PGas, r2_CMPG_Hwy]\n",
    "\n",
    "# Create dictionary to convert and store the scores into columns \n",
    "slr_evaluation = {'Feature': features, 'Root Mean \\n Square Error (RMSE)': rmse,'Explained variance (%)': rsqr}\n",
    "\n",
    "# Convert the dictionary into dataframes\n",
    "slr_df = pd.DataFrame(slr_evaluation, columns=['Feature','Root Mean \\n Square Error (RMSE)', 'Explained variance (%)'])\n",
    "slr_df.head(2)"
   ]
  },
  {
   "cell_type": "code",
   "execution_count": 162,
   "metadata": {},
   "outputs": [],
   "source": [
    "#df = slr_df.groupby(['Feature'])['Root Mean \\n Square Error','R2-score (%)'].sum()\n",
    "#df.plot.barh(legend=True) #(kind='bar')"
   ]
  },
  {
   "cell_type": "markdown",
   "metadata": {},
   "source": [
    "Plot the results of the scores in a horizontal bar graph to compare the different models "
   ]
  },
  {
   "cell_type": "code",
   "execution_count": 217,
   "metadata": {},
   "outputs": [
    {
     "data": {
      "image/png": "[encoded data removed]",
      "text/plain": [
       "<Figure size 720x576 with 1 Axes>"
      ]
     },
     "metadata": {},
     "output_type": "display_data"
    }
   ],
   "source": [
    "scores = slr_df[[ 'Root Mean \\n Square Error (RMSE)','Explained variance (%)']]\n",
    "\n",
    "ax = scores.plot(kind='barh', figsize=(10,8), \n",
    "                 color=['blue','slategray'],legend = True,fontsize=12);\n",
    "ax.set_alpha(0.1)\n",
    "ax.set_title(\"Summary of Multilinear regression (MLR) model scores\", fontsize=18)\n",
    "ax.set_xlabel(\"Model score\", fontsize=10)\n",
    "ax.set_ylabel(\"Car features used or excluded (Excl) in MLR model\", \n",
    "              fontsize=12)\n",
    "ax.set_xticks([10,20,30,40,50,60,70,80,90,100])\n",
    "ax.set_yticklabels(slr_df[\"Feature\"])\n",
    "legend = ax.legend(loc='lower center',shadow=True,fontsize='large')\n",
    "legend.get_frame().set_facecolor('C9')\n",
    "# set individual bar labels using 'yticklabels'\n",
    "for i in ax.patches:\n",
    "    # get_width pulls left or right; get_y pushes up or down\n",
    "    ax.text(i.get_width(), i.get_y()+0.1, \\\n",
    "            str(round((i.get_width()), 2)), fontsize=12, color='black',rotation=0)\n",
    "\n",
    "# invert for largest on top \n",
    "ax.invert_yaxis()"
   ]
  },
  {
   "cell_type": "markdown",
   "metadata": {},
   "source": [
    "Thank you for taking time to go through my notebook. Please share your suggestions and criticisms on my GitHub.\n",
    "\n",
    "<a href=\"https://wgova.github.io/Profile/\"><img src = \"https://wgova.github.io//Profile/assets/images/profile.png\" width = 100, align = \"center\"></a>"
   ]
  },
  {
   "cell_type": "code",
   "execution_count": null,
   "metadata": {},
   "outputs": [],
   "source": []
  }
 ],
 "metadata": {
  "kernelspec": {
   "display_name": "Python 2",
   "language": "python",
   "name": "python2"
  },
  "language_info": {
   "codemirror_mode": {
    "name": "ipython",
    "version": 2
   },
   "file_extension": ".py",
   "mimetype": "text/x-python",
   "name": "python",
   "nbconvert_exporter": "python",
   "pygments_lexer": "ipython2",
   "version": "2.7.17"
  },
  "widgets": {
   "state": {},
   "version": "1.1.2"
  }
 },
 "nbformat": 4,
 "nbformat_minor": 2
}
