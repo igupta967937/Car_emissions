{
 "cells": [
  {
   "cell_type": "markdown",
   "metadata": {
    "button": false,
    "new_sheet": false,
    "run_control": {
     "read_only": false
    }
   },
   "source": [
    "#  <center> #FUNWITHDATA </center>    \n",
    "#### <center>Notebook 1 : Simple Linear Regression</center>\n",
    "This notebook outlines the use of scikit-learn to implement simple linear regression (SLR). Main activities are:\n",
    " - **Download dataset** on fuel consumption and Carbon dioxide emission of cars\n",
    " - **Split the data** into training and test sets\n",
    " - **Create a model** using the training set\n",
    " - **Evaluate the model** using the test set\n",
    " - **Predict unknown values** from the model"
   ]
  },
  {
   "cell_type": "markdown",
   "metadata": {
    "button": false,
    "new_sheet": false,
    "run_control": {
     "read_only": false
    }
   },
   "source": [
    "### Import packages"
   ]
  },
  {
   "cell_type": "code",
   "execution_count": 5,
   "metadata": {
    "button": false,
    "new_sheet": false,
    "run_control": {
     "read_only": false
    }
   },
   "outputs": [],
   "source": [
    "import matplotlib.pyplot as plt\n",
    "import seaborn as sns\n",
    "import pandas as pd\n",
    "import pylab as pl\n",
    "import numpy as np\n",
    "from scipy import stats\n",
    "%matplotlib inline"
   ]
  },
  {
   "cell_type": "markdown",
   "metadata": {},
   "source": [
    "This notebook was created using anaconda, **wget** has to be installed first before it can be used to download files in the notebook. Then the wget package must be imported. "
   ]
  },
  {
   "cell_type": "markdown",
   "metadata": {
    "button": false,
    "new_sheet": false,
    "run_control": {
     "read_only": false
    }
   },
   "source": [
    "## Read the data from the csv file downloaded"
   ]
  },
  {
   "cell_type": "markdown",
   "metadata": {},
   "source": [
    "The dataset for this project is available for download on [GitHub-wgova](https://github.com/wgova/Car_emissions)"
   ]
  },
  {
   "cell_type": "code",
   "execution_count": 6,
   "metadata": {
    "button": false,
    "new_sheet": false,
    "run_control": {
     "read_only": false
    }
   },
   "outputs": [],
   "source": [
    "data = \"https://raw.githubusercontent.com/wgova/Car_emissions/master/Emissions_Full.csv\"\n",
    "df = pd.read_csv(data)"
   ]
  },
  {
   "cell_type": "markdown",
   "metadata": {
    "button": false,
    "new_sheet": false,
    "run_control": {
     "read_only": false
    }
   },
   "source": [
    "\n",
    "## Description of the data\n",
    "\n",
    "The data contains a 2014 fuel consumption dataset with model-specific fuel consumption ratings and estimated carbon dioxide emissions for new light-duty vehicles for retail sale in Canada. For the pursposes of this project, only numerical variables will be extracted for modelling. \n",
    "\n",
    "- **MAKE** e.g. Acura\n",
    "- **MODEL** include 4WD/4X4 = Four-wheel drive,  AWD = All-wheel drive, CNG = Compressed natural gas, FFV = Flexible-fuel vehicle, NGV = Natural gas vehicle\n",
    "- **ENGINE SIZE** e.g. 4.7\n",
    "- **CYLINDERS** e.g 6\n",
    "- **TRANSMISSION** A = Automatic, AM = Automated manual, AS = Automatic with select shift, AV = Continuously variable, M = Manual, 3 – 10 = Number of gears\n",
    "- **FUEL CONSUMPTION (City,HWY,COMB)** City and highway fuel consumption ratings litres per 100 kilometres (L/100 km) - combined rating (55% city, 45% hwy) in L/100 km and in miles per gallon (mpg)\n",
    "- **CO2 EMISSIONS (g/km)** Estimated tailpipe carbon dioxide emissions (in grams per kilometre) based on fuel type and the combined fuel consumption rating.\n",
    "- **FUELTYPE** - X = Regular gasoline, Z = Premium gasoline, D = Diesel, E = Ethanol (E85), N = Natural Gas"
   ]
  },
  {
   "cell_type": "markdown",
   "metadata": {
    "button": false,
    "new_sheet": false,
    "run_control": {
     "read_only": false
    }
   },
   "source": [
    "### Data Exploration\n",
    "Summary descriptive exploration on the dataset"
   ]
  },
  {
   "cell_type": "code",
   "execution_count": 3,
   "metadata": {
    "button": false,
    "new_sheet": false,
    "run_control": {
     "read_only": false
    }
   },
   "outputs": [
    {
     "data": {
      "text/html": [
       "<div>\n",
       "<style scoped>\n",
       "    .dataframe tbody tr th:only-of-type {\n",
       "        vertical-align: middle;\n",
       "    }\n",
       "\n",
       "    .dataframe tbody tr th {\n",
       "        vertical-align: top;\n",
       "    }\n",
       "\n",
       "    .dataframe thead th {\n",
       "        text-align: right;\n",
       "    }\n",
       "</style>\n",
       "<table border=\"1\" class=\"dataframe\">\n",
       "  <thead>\n",
       "    <tr style=\"text-align: right;\">\n",
       "      <th></th>\n",
       "      <th>MODELYEAR</th>\n",
       "      <th>ENGINESIZE</th>\n",
       "      <th>CYLINDERS</th>\n",
       "      <th>FUELCONSUMPTION_CITY</th>\n",
       "      <th>FUELCONSUMPTION_HWY</th>\n",
       "      <th>FUELCONSUMPTION_COMB</th>\n",
       "      <th>FUELCONSUMPTION_COMB_MPG</th>\n",
       "      <th>CO2EMISSIONS</th>\n",
       "    </tr>\n",
       "  </thead>\n",
       "  <tbody>\n",
       "    <tr>\n",
       "      <th>count</th>\n",
       "      <td>1067.0</td>\n",
       "      <td>1067.000000</td>\n",
       "      <td>1067.000000</td>\n",
       "      <td>1067.000000</td>\n",
       "      <td>1067.000000</td>\n",
       "      <td>1067.000000</td>\n",
       "      <td>1067.000000</td>\n",
       "      <td>1067.000000</td>\n",
       "    </tr>\n",
       "    <tr>\n",
       "      <th>mean</th>\n",
       "      <td>2014.0</td>\n",
       "      <td>3.346298</td>\n",
       "      <td>5.794752</td>\n",
       "      <td>13.296532</td>\n",
       "      <td>9.474602</td>\n",
       "      <td>11.580881</td>\n",
       "      <td>26.441425</td>\n",
       "      <td>256.228679</td>\n",
       "    </tr>\n",
       "    <tr>\n",
       "      <th>std</th>\n",
       "      <td>0.0</td>\n",
       "      <td>1.415895</td>\n",
       "      <td>1.797447</td>\n",
       "      <td>4.101253</td>\n",
       "      <td>2.794510</td>\n",
       "      <td>3.485595</td>\n",
       "      <td>7.468702</td>\n",
       "      <td>63.372304</td>\n",
       "    </tr>\n",
       "    <tr>\n",
       "      <th>min</th>\n",
       "      <td>2014.0</td>\n",
       "      <td>1.000000</td>\n",
       "      <td>3.000000</td>\n",
       "      <td>4.600000</td>\n",
       "      <td>4.900000</td>\n",
       "      <td>4.700000</td>\n",
       "      <td>11.000000</td>\n",
       "      <td>108.000000</td>\n",
       "    </tr>\n",
       "    <tr>\n",
       "      <th>25%</th>\n",
       "      <td>2014.0</td>\n",
       "      <td>2.000000</td>\n",
       "      <td>4.000000</td>\n",
       "      <td>10.250000</td>\n",
       "      <td>7.500000</td>\n",
       "      <td>9.000000</td>\n",
       "      <td>21.000000</td>\n",
       "      <td>207.000000</td>\n",
       "    </tr>\n",
       "    <tr>\n",
       "      <th>50%</th>\n",
       "      <td>2014.0</td>\n",
       "      <td>3.400000</td>\n",
       "      <td>6.000000</td>\n",
       "      <td>12.600000</td>\n",
       "      <td>8.800000</td>\n",
       "      <td>10.900000</td>\n",
       "      <td>26.000000</td>\n",
       "      <td>251.000000</td>\n",
       "    </tr>\n",
       "    <tr>\n",
       "      <th>75%</th>\n",
       "      <td>2014.0</td>\n",
       "      <td>4.300000</td>\n",
       "      <td>8.000000</td>\n",
       "      <td>15.550000</td>\n",
       "      <td>10.850000</td>\n",
       "      <td>13.350000</td>\n",
       "      <td>31.000000</td>\n",
       "      <td>294.000000</td>\n",
       "    </tr>\n",
       "    <tr>\n",
       "      <th>max</th>\n",
       "      <td>2014.0</td>\n",
       "      <td>8.400000</td>\n",
       "      <td>12.000000</td>\n",
       "      <td>30.200000</td>\n",
       "      <td>20.500000</td>\n",
       "      <td>25.800000</td>\n",
       "      <td>60.000000</td>\n",
       "      <td>488.000000</td>\n",
       "    </tr>\n",
       "  </tbody>\n",
       "</table>\n",
       "</div>"
      ],
      "text/plain": [
       "       MODELYEAR   ENGINESIZE    CYLINDERS  FUELCONSUMPTION_CITY  \\\n",
       "count     1067.0  1067.000000  1067.000000           1067.000000   \n",
       "mean      2014.0     3.346298     5.794752             13.296532   \n",
       "std          0.0     1.415895     1.797447              4.101253   \n",
       "min       2014.0     1.000000     3.000000              4.600000   \n",
       "25%       2014.0     2.000000     4.000000             10.250000   \n",
       "50%       2014.0     3.400000     6.000000             12.600000   \n",
       "75%       2014.0     4.300000     8.000000             15.550000   \n",
       "max       2014.0     8.400000    12.000000             30.200000   \n",
       "\n",
       "       FUELCONSUMPTION_HWY  FUELCONSUMPTION_COMB  FUELCONSUMPTION_COMB_MPG  \\\n",
       "count          1067.000000           1067.000000               1067.000000   \n",
       "mean              9.474602             11.580881                 26.441425   \n",
       "std               2.794510              3.485595                  7.468702   \n",
       "min               4.900000              4.700000                 11.000000   \n",
       "25%               7.500000              9.000000                 21.000000   \n",
       "50%               8.800000             10.900000                 26.000000   \n",
       "75%              10.850000             13.350000                 31.000000   \n",
       "max              20.500000             25.800000                 60.000000   \n",
       "\n",
       "       CO2EMISSIONS  \n",
       "count   1067.000000  \n",
       "mean     256.228679  \n",
       "std       63.372304  \n",
       "min      108.000000  \n",
       "25%      207.000000  \n",
       "50%      251.000000  \n",
       "75%      294.000000  \n",
       "max      488.000000  "
      ]
     },
     "execution_count": 3,
     "metadata": {},
     "output_type": "execute_result"
    }
   ],
   "source": [
    "# summarize the data\n",
    "df.describe() # To visualise summary statistics for the full dataset\n",
    "#df.describe(include=['object']) # To get a summary of categorical data"
   ]
  },
  {
   "cell_type": "markdown",
   "metadata": {},
   "source": [
    "Check if there are observations with missing values in the dataset"
   ]
  },
  {
   "cell_type": "code",
   "execution_count": 4,
   "metadata": {},
   "outputs": [],
   "source": [
    "missing_data = df.isnull() # Ensure that there are no missing values in the dataset\n",
    "\n",
    "#for column in missing_data.columns.values.tolist(): #Count missing values in each column\n",
    "#    print(column)\n",
    "#    print (missing_data[column].value_counts())\n",
    "#    print(\" \\n \") "
   ]
  },
  {
   "cell_type": "markdown",
   "metadata": {},
   "source": [
    "The dataset seems to be complete, with no missing values. Some of the column names are a bit long and need to be shortened to improve the aesthetics of some of the charts later"
   ]
  },
  {
   "cell_type": "code",
   "execution_count": 5,
   "metadata": {},
   "outputs": [
    {
     "data": {
      "text/html": [
       "<div>\n",
       "<style scoped>\n",
       "    .dataframe tbody tr th:only-of-type {\n",
       "        vertical-align: middle;\n",
       "    }\n",
       "\n",
       "    .dataframe tbody tr th {\n",
       "        vertical-align: top;\n",
       "    }\n",
       "\n",
       "    .dataframe thead th {\n",
       "        text-align: right;\n",
       "    }\n",
       "</style>\n",
       "<table border=\"1\" class=\"dataframe\">\n",
       "  <thead>\n",
       "    <tr style=\"text-align: right;\">\n",
       "      <th></th>\n",
       "      <th>MODELYEAR</th>\n",
       "      <th>MAKE</th>\n",
       "      <th>MODEL</th>\n",
       "      <th>VEHICLECLASS</th>\n",
       "      <th>ENGINESIZE</th>\n",
       "      <th>CYLINDERS</th>\n",
       "      <th>TRANSMISSION</th>\n",
       "      <th>FUELTYPE</th>\n",
       "      <th>City_FC</th>\n",
       "      <th>HWY_FC</th>\n",
       "      <th>COMB_FC</th>\n",
       "      <th>COMB_MPG_FC</th>\n",
       "      <th>CO2EMISSIONS</th>\n",
       "    </tr>\n",
       "  </thead>\n",
       "  <tbody>\n",
       "    <tr>\n",
       "      <th>0</th>\n",
       "      <td>2014</td>\n",
       "      <td>ACURA</td>\n",
       "      <td>ILX</td>\n",
       "      <td>COMPACT</td>\n",
       "      <td>2.0</td>\n",
       "      <td>4</td>\n",
       "      <td>AS5</td>\n",
       "      <td>Z</td>\n",
       "      <td>9.9</td>\n",
       "      <td>6.7</td>\n",
       "      <td>8.5</td>\n",
       "      <td>33</td>\n",
       "      <td>196</td>\n",
       "    </tr>\n",
       "    <tr>\n",
       "      <th>1</th>\n",
       "      <td>2014</td>\n",
       "      <td>ACURA</td>\n",
       "      <td>ILX</td>\n",
       "      <td>COMPACT</td>\n",
       "      <td>2.4</td>\n",
       "      <td>4</td>\n",
       "      <td>M6</td>\n",
       "      <td>Z</td>\n",
       "      <td>11.2</td>\n",
       "      <td>7.7</td>\n",
       "      <td>9.6</td>\n",
       "      <td>29</td>\n",
       "      <td>221</td>\n",
       "    </tr>\n",
       "    <tr>\n",
       "      <th>2</th>\n",
       "      <td>2014</td>\n",
       "      <td>ACURA</td>\n",
       "      <td>ILX HYBRID</td>\n",
       "      <td>COMPACT</td>\n",
       "      <td>1.5</td>\n",
       "      <td>4</td>\n",
       "      <td>AV7</td>\n",
       "      <td>Z</td>\n",
       "      <td>6.0</td>\n",
       "      <td>5.8</td>\n",
       "      <td>5.9</td>\n",
       "      <td>48</td>\n",
       "      <td>136</td>\n",
       "    </tr>\n",
       "    <tr>\n",
       "      <th>3</th>\n",
       "      <td>2014</td>\n",
       "      <td>ACURA</td>\n",
       "      <td>MDX 4WD</td>\n",
       "      <td>SUV - SMALL</td>\n",
       "      <td>3.5</td>\n",
       "      <td>6</td>\n",
       "      <td>AS6</td>\n",
       "      <td>Z</td>\n",
       "      <td>12.7</td>\n",
       "      <td>9.1</td>\n",
       "      <td>11.1</td>\n",
       "      <td>25</td>\n",
       "      <td>255</td>\n",
       "    </tr>\n",
       "    <tr>\n",
       "      <th>4</th>\n",
       "      <td>2014</td>\n",
       "      <td>ACURA</td>\n",
       "      <td>RDX AWD</td>\n",
       "      <td>SUV - SMALL</td>\n",
       "      <td>3.5</td>\n",
       "      <td>6</td>\n",
       "      <td>AS6</td>\n",
       "      <td>Z</td>\n",
       "      <td>12.1</td>\n",
       "      <td>8.7</td>\n",
       "      <td>10.6</td>\n",
       "      <td>27</td>\n",
       "      <td>244</td>\n",
       "    </tr>\n",
       "  </tbody>\n",
       "</table>\n",
       "</div>"
      ],
      "text/plain": [
       "   MODELYEAR   MAKE       MODEL VEHICLECLASS  ENGINESIZE  CYLINDERS  \\\n",
       "0       2014  ACURA         ILX      COMPACT         2.0          4   \n",
       "1       2014  ACURA         ILX      COMPACT         2.4          4   \n",
       "2       2014  ACURA  ILX HYBRID      COMPACT         1.5          4   \n",
       "3       2014  ACURA     MDX 4WD  SUV - SMALL         3.5          6   \n",
       "4       2014  ACURA     RDX AWD  SUV - SMALL         3.5          6   \n",
       "\n",
       "  TRANSMISSION FUELTYPE  City_FC  HWY_FC  COMB_FC  COMB_MPG_FC  CO2EMISSIONS  \n",
       "0          AS5        Z      9.9     6.7      8.5           33           196  \n",
       "1           M6        Z     11.2     7.7      9.6           29           221  \n",
       "2          AV7        Z      6.0     5.8      5.9           48           136  \n",
       "3          AS6        Z     12.7     9.1     11.1           25           255  \n",
       "4          AS6        Z     12.1     8.7     10.6           27           244  "
      ]
     },
     "execution_count": 5,
     "metadata": {},
     "output_type": "execute_result"
    }
   ],
   "source": [
    "df.rename(columns={'FUELCONSUMPTION_CITY':'City_FC', 'FUELCONSUMPTION_HWY':'HWY_FC','FUELCONSUMPTION_COMB':'COMB_FC','FUELCONSUMPTION_COMB_MPG':'COMB_MPG_FC'}, inplace=True)\n",
    "df.head()"
   ]
  },
  {
   "cell_type": "markdown",
   "metadata": {},
   "source": [
    "A feature that might be important to model emisisons is **fuel type**, but its is not numerical, but categorical. In order to turn it into numeric values, **\"One-hot\" encoding** is used to create dummy variables which will assign '0' when the feature is absent or '1' for the feature present"
   ]
  },
  {
   "cell_type": "code",
   "execution_count": 6,
   "metadata": {},
   "outputs": [
    {
     "data": {
      "text/html": [
       "<div>\n",
       "<style scoped>\n",
       "    .dataframe tbody tr th:only-of-type {\n",
       "        vertical-align: middle;\n",
       "    }\n",
       "\n",
       "    .dataframe tbody tr th {\n",
       "        vertical-align: top;\n",
       "    }\n",
       "\n",
       "    .dataframe thead th {\n",
       "        text-align: right;\n",
       "    }\n",
       "</style>\n",
       "<table border=\"1\" class=\"dataframe\">\n",
       "  <thead>\n",
       "    <tr style=\"text-align: right;\">\n",
       "      <th></th>\n",
       "      <th>MODELYEAR</th>\n",
       "      <th>MAKE</th>\n",
       "      <th>MODEL</th>\n",
       "      <th>VEHICLECLASS</th>\n",
       "      <th>ENGINESIZE</th>\n",
       "      <th>CYLINDERS</th>\n",
       "      <th>TRANSMISSION</th>\n",
       "      <th>City_FC</th>\n",
       "      <th>HWY_FC</th>\n",
       "      <th>COMB_FC</th>\n",
       "      <th>COMB_MPG_FC</th>\n",
       "      <th>CO2EMISSIONS</th>\n",
       "      <th>Diesel</th>\n",
       "      <th>Ethanol</th>\n",
       "      <th>Gasoline</th>\n",
       "      <th>Prem_Gasoline</th>\n",
       "    </tr>\n",
       "  </thead>\n",
       "  <tbody>\n",
       "    <tr>\n",
       "      <th>0</th>\n",
       "      <td>2014</td>\n",
       "      <td>ACURA</td>\n",
       "      <td>ILX</td>\n",
       "      <td>COMPACT</td>\n",
       "      <td>2.0</td>\n",
       "      <td>4</td>\n",
       "      <td>AS5</td>\n",
       "      <td>9.9</td>\n",
       "      <td>6.7</td>\n",
       "      <td>8.5</td>\n",
       "      <td>33</td>\n",
       "      <td>196</td>\n",
       "      <td>0</td>\n",
       "      <td>0</td>\n",
       "      <td>0</td>\n",
       "      <td>1</td>\n",
       "    </tr>\n",
       "    <tr>\n",
       "      <th>1</th>\n",
       "      <td>2014</td>\n",
       "      <td>ACURA</td>\n",
       "      <td>ILX</td>\n",
       "      <td>COMPACT</td>\n",
       "      <td>2.4</td>\n",
       "      <td>4</td>\n",
       "      <td>M6</td>\n",
       "      <td>11.2</td>\n",
       "      <td>7.7</td>\n",
       "      <td>9.6</td>\n",
       "      <td>29</td>\n",
       "      <td>221</td>\n",
       "      <td>0</td>\n",
       "      <td>0</td>\n",
       "      <td>0</td>\n",
       "      <td>1</td>\n",
       "    </tr>\n",
       "    <tr>\n",
       "      <th>2</th>\n",
       "      <td>2014</td>\n",
       "      <td>ACURA</td>\n",
       "      <td>ILX HYBRID</td>\n",
       "      <td>COMPACT</td>\n",
       "      <td>1.5</td>\n",
       "      <td>4</td>\n",
       "      <td>AV7</td>\n",
       "      <td>6.0</td>\n",
       "      <td>5.8</td>\n",
       "      <td>5.9</td>\n",
       "      <td>48</td>\n",
       "      <td>136</td>\n",
       "      <td>0</td>\n",
       "      <td>0</td>\n",
       "      <td>0</td>\n",
       "      <td>1</td>\n",
       "    </tr>\n",
       "    <tr>\n",
       "      <th>3</th>\n",
       "      <td>2014</td>\n",
       "      <td>ACURA</td>\n",
       "      <td>MDX 4WD</td>\n",
       "      <td>SUV - SMALL</td>\n",
       "      <td>3.5</td>\n",
       "      <td>6</td>\n",
       "      <td>AS6</td>\n",
       "      <td>12.7</td>\n",
       "      <td>9.1</td>\n",
       "      <td>11.1</td>\n",
       "      <td>25</td>\n",
       "      <td>255</td>\n",
       "      <td>0</td>\n",
       "      <td>0</td>\n",
       "      <td>0</td>\n",
       "      <td>1</td>\n",
       "    </tr>\n",
       "    <tr>\n",
       "      <th>4</th>\n",
       "      <td>2014</td>\n",
       "      <td>ACURA</td>\n",
       "      <td>RDX AWD</td>\n",
       "      <td>SUV - SMALL</td>\n",
       "      <td>3.5</td>\n",
       "      <td>6</td>\n",
       "      <td>AS6</td>\n",
       "      <td>12.1</td>\n",
       "      <td>8.7</td>\n",
       "      <td>10.6</td>\n",
       "      <td>27</td>\n",
       "      <td>244</td>\n",
       "      <td>0</td>\n",
       "      <td>0</td>\n",
       "      <td>0</td>\n",
       "      <td>1</td>\n",
       "    </tr>\n",
       "  </tbody>\n",
       "</table>\n",
       "</div>"
      ],
      "text/plain": [
       "   MODELYEAR   MAKE       MODEL VEHICLECLASS  ENGINESIZE  CYLINDERS  \\\n",
       "0       2014  ACURA         ILX      COMPACT         2.0          4   \n",
       "1       2014  ACURA         ILX      COMPACT         2.4          4   \n",
       "2       2014  ACURA  ILX HYBRID      COMPACT         1.5          4   \n",
       "3       2014  ACURA     MDX 4WD  SUV - SMALL         3.5          6   \n",
       "4       2014  ACURA     RDX AWD  SUV - SMALL         3.5          6   \n",
       "\n",
       "  TRANSMISSION  City_FC  HWY_FC  COMB_FC  COMB_MPG_FC  CO2EMISSIONS  Diesel  \\\n",
       "0          AS5      9.9     6.7      8.5           33           196       0   \n",
       "1           M6     11.2     7.7      9.6           29           221       0   \n",
       "2          AV7      6.0     5.8      5.9           48           136       0   \n",
       "3          AS6     12.7     9.1     11.1           25           255       0   \n",
       "4          AS6     12.1     8.7     10.6           27           244       0   \n",
       "\n",
       "   Ethanol  Gasoline  Prem_Gasoline  \n",
       "0        0         0              1  \n",
       "1        0         0              1  \n",
       "2        0         0              1  \n",
       "3        0         0              1  \n",
       "4        0         0              1  "
      ]
     },
     "execution_count": 6,
     "metadata": {},
     "output_type": "execute_result"
    }
   ],
   "source": [
    "dummy_fuel = pd.get_dummies(df['FUELTYPE'])\n",
    "#dummy_fuel.head()\n",
    "#dummy_fuel.describe()\n",
    "\n",
    "dummy_fuel.rename(columns={\n",
    "    'D':'Diesel', 'E':'Ethanol','X':'Gasoline','Z':'Prem_Gasoline'\n",
    "}, inplace=True)\n",
    "dummy_fuel.head()\n",
    "#merge data frame \"df\" and \"dummy_variable_1\" \n",
    "df = pd.concat([df, dummy_fuel], axis=1)\n",
    "\n",
    "# drop original column \"fuel-type\" from \"df\"\n",
    "df.drop(\"FUELTYPE\", axis = 1, inplace=True)\n",
    "df.head()"
   ]
  },
  {
   "cell_type": "markdown",
   "metadata": {},
   "source": [
    "In order to visualisation a statistical distribution of variables in the dataset, histograms will be plotted for all features."
   ]
  },
  {
   "cell_type": "code",
   "execution_count": 7,
   "metadata": {},
   "outputs": [
    {
     "data": {
      "image/png": "[encoded data removed]",
      "text/plain": [
       "<Figure size 864x288 with 10 Axes>"
      ]
     },
     "metadata": {},
     "output_type": "display_data"
    }
   ],
   "source": [
    "plt.figure(figsize=(12,4 ))\n",
    "\n",
    "plt.subplot(2, 5, 1)\n",
    "plt.hist(df['ENGINESIZE'],color = 'red') ; plt.xlabel(\"ENGINESIZE\") ; plt.ylabel(\"Frequency\")\n",
    "\n",
    "plt.subplot(2, 5, 2)\n",
    "plt.hist(df['CYLINDERS'],color = 'green') ; plt.xlabel(\"CYLINDERS\") ; plt.ylabel(\"Frequency\")\n",
    "\n",
    "plt.subplot(2, 5, 3)\n",
    "plt.hist(df['City_FC'], color = 'orange'); plt.xlabel(\"City_FC\"); plt.ylabel(\"Frequency\")\n",
    "\n",
    "plt.subplot(2, 5, 4)\n",
    "plt.hist(df['HWY_FC'], color = 'purple'); plt.xlabel(\"HWY_FC\"); plt.ylabel(\"Frequency\")\n",
    "\n",
    "plt.subplot(2, 5, 5)\n",
    "plt.hist(df['COMB_FC'], color = 'purple'); plt.xlabel(\"COMB_FC\"); plt.ylabel(\"Frequency\")\n",
    "\n",
    "plt.subplot(2, 5, 6)\n",
    "plt.hist(df['COMB_MPG_FC'], color = 'purple'); plt.xlabel(\"COMB_MPG_FC\"); plt.ylabel(\"Frequency\")\n",
    "\n",
    "plt.subplot(2, 5, 7)\n",
    "plt.hist(df['Diesel'], color = 'brown'); plt.xlabel(\"Diesel\"); plt.ylabel(\"Frequency\")\n",
    "\n",
    "plt.subplot(2, 5, 8)\n",
    "plt.hist(df['Ethanol'], color = 'brown'); plt.xlabel(\"Ethanol\"); plt.ylabel(\"Frequency\")\n",
    "\n",
    "plt.subplot(2, 5, 9)\n",
    "plt.hist(df['Gasoline'], color = 'brown'); plt.xlabel(\"Gasoline\"); plt.ylabel(\"Frequency\")\n",
    "\n",
    "plt.subplot(2, 5, 10)\n",
    "plt.hist(df['Prem_Gasoline'], color = 'brown'); plt.xlabel(\"Premium_Gasoline\"); plt.ylabel(\"Frequency\")\n",
    "\n",
    "plt.tight_layout()\n",
    "plt.show()"
   ]
  },
  {
   "cell_type": "markdown",
   "metadata": {},
   "source": [
    "This dataset has fewer **ethanol** and **diesel** cars compared to **gasoline** and **premium-gasoline**. This suggests that **Fuel type** this will not be a good feature to model with, for this particular dataset, more data is needed."
   ]
  },
  {
   "cell_type": "markdown",
   "metadata": {},
   "source": [
    "**Features engineering**\n",
    "\n",
    "A data subset consisting of possible strong  predictors of carbon dioxide emissions, based on amount of data available is created here"
   ]
  },
  {
   "cell_type": "code",
   "execution_count": 8,
   "metadata": {
    "button": false,
    "new_sheet": false,
    "run_control": {
     "read_only": false
    }
   },
   "outputs": [],
   "source": [
    "adf = df[['ENGINESIZE','CYLINDERS','City_FC','HWY_FC','COMB_FC','COMB_MPG_FC',\n",
    "          'Gasoline','Prem_Gasoline','CO2EMISSIONS']]"
   ]
  },
  {
   "cell_type": "markdown",
   "metadata": {},
   "source": [
    "Possible predictors for emissions which can be candidates for modelling will be identified using a correlation matrix, seeking coefficients above 0.7 "
   ]
  },
  {
   "cell_type": "code",
   "execution_count": 9,
   "metadata": {},
   "outputs": [
    {
     "data": {
      "image/png": "[encoded data removed]",
      "text/plain": [
       "<Figure size 432x288 with 2 Axes>"
      ]
     },
     "metadata": {},
     "output_type": "display_data"
    }
   ],
   "source": [
    "corr = adf.corr()\n",
    "sns.heatmap(corr,xticklabels=corr.columns,yticklabels=corr.columns,annot=True) \n",
    "plt.show()"
   ]
  },
  {
   "cell_type": "markdown",
   "metadata": {},
   "source": [
    "The strong correlations of **fuel consumption** (City_FC,HWY_FC,COMB_FC and COMB_MPG_FC), **Enginesize** and **Cylinders** might not be statistically significant enough for modelling. **Pearson Correlation P-values** will be used to test the strength of correlation between each feature to emissions. The Pearson Correlation Coefficent (**PCC**) and **P-value** will be recorded for each feature "
   ]
  },
  {
   "cell_type": "code",
   "execution_count": 10,
   "metadata": {},
   "outputs": [],
   "source": [
    "def calculate_pvalues(adf):\n",
    "    df = adf.dropna()._get_numeric_data()\n",
    "    dfcols = pd.DataFrame(columns=adf.columns)\n",
    "    pvalues = dfcols.transpose().join(dfcols, how='outer')\n",
    "    for r in df.columns:\n",
    "        for c in df.columns:\n",
    "            pvalues[r][c] = round(stats.pearsonr(df[r], df[c])[1], 4)\n",
    "    return pvalues"
   ]
  },
  {
   "cell_type": "code",
   "execution_count": 11,
   "metadata": {},
   "outputs": [
    {
     "data": {
      "text/html": [
       "<div>\n",
       "<style scoped>\n",
       "    .dataframe tbody tr th:only-of-type {\n",
       "        vertical-align: middle;\n",
       "    }\n",
       "\n",
       "    .dataframe tbody tr th {\n",
       "        vertical-align: top;\n",
       "    }\n",
       "\n",
       "    .dataframe thead th {\n",
       "        text-align: right;\n",
       "    }\n",
       "</style>\n",
       "<table border=\"1\" class=\"dataframe\">\n",
       "  <thead>\n",
       "    <tr style=\"text-align: right;\">\n",
       "      <th></th>\n",
       "      <th>ENGINESIZE</th>\n",
       "      <th>CYLINDERS</th>\n",
       "      <th>City_FC</th>\n",
       "      <th>HWY_FC</th>\n",
       "      <th>COMB_FC</th>\n",
       "      <th>COMB_MPG_FC</th>\n",
       "      <th>Gasoline</th>\n",
       "      <th>Prem_Gasoline</th>\n",
       "      <th>CO2EMISSIONS</th>\n",
       "    </tr>\n",
       "  </thead>\n",
       "  <tbody>\n",
       "    <tr>\n",
       "      <th>ENGINESIZE</th>\n",
       "      <td>1.00***</td>\n",
       "      <td>0.93***</td>\n",
       "      <td>0.83***</td>\n",
       "      <td>0.78***</td>\n",
       "      <td>0.82***</td>\n",
       "      <td>-0.81***</td>\n",
       "      <td>-0.27***</td>\n",
       "      <td>0.17***</td>\n",
       "      <td>0.87***</td>\n",
       "    </tr>\n",
       "    <tr>\n",
       "      <th>CYLINDERS</th>\n",
       "      <td>0.93***</td>\n",
       "      <td>1.00***</td>\n",
       "      <td>0.80***</td>\n",
       "      <td>0.72***</td>\n",
       "      <td>0.78***</td>\n",
       "      <td>-0.77***</td>\n",
       "      <td>-0.34***</td>\n",
       "      <td>0.26***</td>\n",
       "      <td>0.85***</td>\n",
       "    </tr>\n",
       "    <tr>\n",
       "      <th>City_FC</th>\n",
       "      <td>0.83***</td>\n",
       "      <td>0.80***</td>\n",
       "      <td>1.00***</td>\n",
       "      <td>0.97***</td>\n",
       "      <td>1.00***</td>\n",
       "      <td>-0.94***</td>\n",
       "      <td>-0.32***</td>\n",
       "      <td>0.05</td>\n",
       "      <td>0.90***</td>\n",
       "    </tr>\n",
       "    <tr>\n",
       "      <th>HWY_FC</th>\n",
       "      <td>0.78***</td>\n",
       "      <td>0.72***</td>\n",
       "      <td>0.97***</td>\n",
       "      <td>1.00***</td>\n",
       "      <td>0.99***</td>\n",
       "      <td>-0.89***</td>\n",
       "      <td>-0.27***</td>\n",
       "      <td>-0.02</td>\n",
       "      <td>0.86***</td>\n",
       "    </tr>\n",
       "    <tr>\n",
       "      <th>COMB_FC</th>\n",
       "      <td>0.82***</td>\n",
       "      <td>0.78***</td>\n",
       "      <td>1.00***</td>\n",
       "      <td>0.99***</td>\n",
       "      <td>1.00***</td>\n",
       "      <td>-0.93***</td>\n",
       "      <td>-0.30***</td>\n",
       "      <td>0.02</td>\n",
       "      <td>0.89***</td>\n",
       "    </tr>\n",
       "    <tr>\n",
       "      <th>COMB_MPG_FC</th>\n",
       "      <td>-0.81***</td>\n",
       "      <td>-0.77***</td>\n",
       "      <td>-0.94***</td>\n",
       "      <td>-0.89***</td>\n",
       "      <td>-0.93***</td>\n",
       "      <td>1.00***</td>\n",
       "      <td>0.30***</td>\n",
       "      <td>-0.12***</td>\n",
       "      <td>-0.91***</td>\n",
       "    </tr>\n",
       "    <tr>\n",
       "      <th>Gasoline</th>\n",
       "      <td>-0.27***</td>\n",
       "      <td>-0.34***</td>\n",
       "      <td>-0.32***</td>\n",
       "      <td>-0.27***</td>\n",
       "      <td>-0.30***</td>\n",
       "      <td>0.30***</td>\n",
       "      <td>1.00***</td>\n",
       "      <td>-0.80***</td>\n",
       "      <td>-0.23***</td>\n",
       "    </tr>\n",
       "    <tr>\n",
       "      <th>Prem_Gasoline</th>\n",
       "      <td>0.17***</td>\n",
       "      <td>0.26***</td>\n",
       "      <td>0.05</td>\n",
       "      <td>-0.02</td>\n",
       "      <td>0.02</td>\n",
       "      <td>-0.12***</td>\n",
       "      <td>-0.80***</td>\n",
       "      <td>1.00***</td>\n",
       "      <td>0.16***</td>\n",
       "    </tr>\n",
       "    <tr>\n",
       "      <th>CO2EMISSIONS</th>\n",
       "      <td>0.87***</td>\n",
       "      <td>0.85***</td>\n",
       "      <td>0.90***</td>\n",
       "      <td>0.86***</td>\n",
       "      <td>0.89***</td>\n",
       "      <td>-0.91***</td>\n",
       "      <td>-0.23***</td>\n",
       "      <td>0.16***</td>\n",
       "      <td>1.00***</td>\n",
       "    </tr>\n",
       "  </tbody>\n",
       "</table>\n",
       "</div>"
      ],
      "text/plain": [
       "              ENGINESIZE CYLINDERS   City_FC    HWY_FC   COMB_FC COMB_MPG_FC  \\\n",
       "ENGINESIZE       1.00***   0.93***   0.83***   0.78***   0.82***    -0.81***   \n",
       "CYLINDERS        0.93***   1.00***   0.80***   0.72***   0.78***    -0.77***   \n",
       "City_FC          0.83***   0.80***   1.00***   0.97***   1.00***    -0.94***   \n",
       "HWY_FC           0.78***   0.72***   0.97***   1.00***   0.99***    -0.89***   \n",
       "COMB_FC          0.82***   0.78***   1.00***   0.99***   1.00***    -0.93***   \n",
       "COMB_MPG_FC     -0.81***  -0.77***  -0.94***  -0.89***  -0.93***     1.00***   \n",
       "Gasoline        -0.27***  -0.34***  -0.32***  -0.27***  -0.30***     0.30***   \n",
       "Prem_Gasoline    0.17***   0.26***      0.05     -0.02      0.02    -0.12***   \n",
       "CO2EMISSIONS     0.87***   0.85***   0.90***   0.86***   0.89***    -0.91***   \n",
       "\n",
       "               Gasoline Prem_Gasoline CO2EMISSIONS  \n",
       "ENGINESIZE     -0.27***       0.17***      0.87***  \n",
       "CYLINDERS      -0.34***       0.26***      0.85***  \n",
       "City_FC        -0.32***          0.05      0.90***  \n",
       "HWY_FC         -0.27***         -0.02      0.86***  \n",
       "COMB_FC        -0.30***          0.02      0.89***  \n",
       "COMB_MPG_FC     0.30***      -0.12***     -0.91***  \n",
       "Gasoline        1.00***      -0.80***     -0.23***  \n",
       "Prem_Gasoline  -0.80***       1.00***      0.16***  \n",
       "CO2EMISSIONS   -0.23***       0.16***      1.00***  "
      ]
     },
     "execution_count": 11,
     "metadata": {},
     "output_type": "execute_result"
    }
   ],
   "source": [
    "df_corr = adf.corr()\n",
    "pval = calculate_pvalues(adf) \n",
    "# create three masks for p-values\n",
    "r1 = df_corr.applymap(lambda x: '{:.2f}*'.format(x)) \n",
    "r2 = df_corr.applymap(lambda x: '{:.2f}**'.format(x))\n",
    "r3 = df_corr.applymap(lambda x: '{:.2f}***'.format(x))\n",
    "r4 = df_corr.applymap(lambda x: '{:.2f}'.format(x))\n",
    "# applying these masks to the correlation matrix\n",
    "df_corr = df_corr.mask(pval>.1,r4)\n",
    "df_corr = df_corr.mask(pval<=.1,r1)\n",
    "df_corr = df_corr.mask(pval<=.05,r2)\n",
    "df_corr = df_corr.mask(pval<=.01,r3)\n",
    "#[df_corr.mask(pval<=p,df_corr.applymap(lambda x: '{:.2f}*'.format(x)),inplace=True) for p in [.1,.05,.01]]\n",
    "df_corr"
   ]
  },
  {
   "cell_type": "markdown",
   "metadata": {},
   "source": [
    "In order to verify that the masks worked, the PCC and p-values will be displayed"
   ]
  },
  {
   "cell_type": "code",
   "execution_count": 12,
   "metadata": {},
   "outputs": [
    {
     "name": "stdout",
     "output_type": "stream",
     "text": [
      "                    PCC        p-value\n",
      "COMB_FC        0.892129   0.000000e+00\n",
      "COMB_MPG_FC   -0.906394   0.000000e+00\n",
      "CYLINDERS      0.849685  2.770937e-298\n",
      "City_FC        0.898039   0.000000e+00\n",
      "ENGINESIZE     0.874154   0.000000e+00\n",
      "Gasoline      -0.230304   2.602792e-14\n",
      "HWY_FC         0.861748  3.918656e-316\n",
      "Prem_Gasoline  0.160804   1.285456e-07\n"
     ]
    }
   ],
   "source": [
    "import itertools\n",
    "correlations = {}\n",
    "columns = adf.columns.tolist()\n",
    "\n",
    "for col_a, CO2EMISSIONS in itertools.combinations(columns, 2):\n",
    "    correlations[col_a] = stats.pearsonr(adf.loc[:, col_a], adf.loc[:, CO2EMISSIONS])\n",
    "\n",
    "result = adf.from_dict(correlations, orient='index')\n",
    "result.columns = ['PCC', 'p-value']\n",
    "rho = result.sort_index()\n",
    "print(result.sort_index())"
   ]
  },
  {
   "cell_type": "markdown",
   "metadata": {},
   "source": [
    "To verify the results above:"
   ]
  },
  {
   "cell_type": "code",
   "execution_count": 13,
   "metadata": {},
   "outputs": [
    {
     "name": "stdout",
     "output_type": "stream",
     "text": [
      "Coeff: 0.16080415195844616  \n",
      "P-value of 1.2854560306331895e-07\n"
     ]
    }
   ],
   "source": [
    "pearson_coef, p_value = stats.pearsonr(df[\"Prem_Gasoline\"], df[\"CO2EMISSIONS\"])\n",
    "print(\"Coeff:\", pearson_coef, \" \\nP-value of\", p_value)  \n"
   ]
  },
  {
   "cell_type": "markdown",
   "metadata": {},
   "source": [
    "The **p-value** and correlations for **fuel consumption** (City_FC,HWY_FC,COMB_FC and COMB_MPG_FC), **Enginesize** and **Cylinders** are **less than 0.01** for all the features. This suggests that the **correlation** is significntly differenct from **zero** to be ignored. All 8 features show strong evidence that their correlation to emissions is significant"
   ]
  },
  {
   "cell_type": "markdown",
   "metadata": {},
   "source": [
    "In order to make a preliminary judgement on whether a linear relation exists between each individual feature and carbon emissions, a scatter plot is plotted for each feature vs emissions, and a line of best fit is drawn."
   ]
  },
  {
   "cell_type": "code",
   "execution_count": 303,
   "metadata": {},
   "outputs": [
    {
     "data": {
      "text/plain": [
       "<seaborn.axisgrid.PairGrid at 0x27c3aeb1e48>"
      ]
     },
     "execution_count": 303,
     "metadata": {},
     "output_type": "execute_result"
    },
    {
     "data": {
      "image/png": "[encoded data removed]",
      "text/plain": [
       "<Figure size 540x180 with 3 Axes>"
      ]
     },
     "metadata": {},
     "output_type": "display_data"
    },
    {
     "data": {
      "image/png": "[encoded data removed]",
      "text/plain": [
       "<Figure size 720x180 with 4 Axes>"
      ]
     },
     "metadata": {},
     "output_type": "display_data"
    }
   ],
   "source": [
    "sns.pairplot(adf, x_vars=[\"COMB_MPG_FC\",\"Gasoline\",\"City_FC\"], \n",
    "             y_vars=\"CO2EMISSIONS\", kind = 'reg')\n",
    "sns.pairplot(adf, x_vars=[\"ENGINESIZE\",\"CYLINDERS\",\n",
    "                          \"HWY_FC\",\"Prem_Gasoline\"], y_vars=\"CO2EMISSIONS\", kind = 'reg')"
   ]
  },
  {
   "cell_type": "markdown",
   "metadata": {},
   "source": [
    "**Fuel consumption_city** seems to have the strongest correlation to emissions"
   ]
  },
  {
   "cell_type": "markdown",
   "metadata": {
    "button": false,
    "new_sheet": false,
    "run_control": {
     "read_only": false
    }
   },
   "source": [
    "#### Create training and testing dataset from our \n",
    "The dataset is split into training and testing sets, in the ratio 70%: 30% respectively using a mask to select random rows."
   ]
  },
  {
   "cell_type": "code",
   "execution_count": 305,
   "metadata": {},
   "outputs": [
    {
     "name": "stdout",
     "output_type": "stream",
     "text": [
      "Training samples 746\n",
      "Testing samples:  321\n"
     ]
    }
   ],
   "source": [
    "from sklearn.model_selection import train_test_split as tts\n",
    "\n",
    "# Split data into test (30%) and training (70%) sets\n",
    "train_data, test_data = tts(adf,train_size=0.7)\n",
    "\n",
    "print(\"Training samples\", train_data.shape[0])\n",
    "print(\"Testing samples: \", test_data.shape[0])"
   ]
  },
  {
   "cell_type": "markdown",
   "metadata": {
    "button": false,
    "new_sheet": false,
    "run_control": {
     "read_only": false
    }
   },
   "source": [
    "### Simple Regression Model\n",
    "The goal for a Linear Regression is to fit a linear model to **minimize the residual sum of squares** (MSE) between the independent x in the dataset, and the dependent y by the linear approximation. In other words, maximise the number of observations used to train the model. "
   ]
  },
  {
   "cell_type": "markdown",
   "metadata": {
    "button": false,
    "new_sheet": false,
    "run_control": {
     "read_only": false
    }
   },
   "source": [
    "#### Train data distribution\n",
    "Check how representative the distribution of the training dataset is of the full data"
   ]
  },
  {
   "cell_type": "code",
   "execution_count": 306,
   "metadata": {},
   "outputs": [
    {
     "data": {
      "text/plain": [
       "<seaborn.axisgrid.PairGrid at 0x27c3c0f5710>"
      ]
     },
     "execution_count": 306,
     "metadata": {},
     "output_type": "execute_result"
    },
    {
     "data": {
      "image/png": "[encoded data removed]",
      "text/plain": [
       "<Figure size 540x180 with 3 Axes>"
      ]
     },
     "metadata": {},
     "output_type": "display_data"
    },
    {
     "data": {
      "image/png": "[encoded data removed]",
      "text/plain": [
       "<Figure size 720x180 with 4 Axes>"
      ]
     },
     "metadata": {},
     "output_type": "display_data"
    }
   ],
   "source": [
    "sns.pairplot(train_data, x_vars=[\"COMB_MPG_FC\",\"Gasoline\",\"City_FC\"], \n",
    "             y_vars=\"CO2EMISSIONS\", kind = 'reg')\n",
    "sns.pairplot(train_data, x_vars=[\"ENGINESIZE\",\"CYLINDERS\",\n",
    "                          \"HWY_FC\",\"Prem_Gasoline\"], y_vars=\"CO2EMISSIONS\", kind = 'reg')"
   ]
  },
  {
   "cell_type": "markdown",
   "metadata": {
    "button": false,
    "new_sheet": false,
    "run_control": {
     "read_only": false
    }
   },
   "source": [
    "#### Modeling\n",
    "Using sklearn package to model data."
   ]
  },
  {
   "cell_type": "code",
   "execution_count": 353,
   "metadata": {
    "button": false,
    "new_sheet": false,
    "run_control": {
     "read_only": false
    }
   },
   "outputs": [
    {
     "data": {
      "text/plain": [
       "LinearRegression(copy_X=True, fit_intercept=True, n_jobs=1, normalize=False)"
      ]
     },
     "execution_count": 353,
     "metadata": {},
     "output_type": "execute_result"
    }
   ],
   "source": [
    "from sklearn.linear_model import LinearRegression as lreg\n",
    "line = lreg()\n",
    "x = train_data[['COMB_MPG_FC']]\n",
    "y = train_data.CO2EMISSIONS\n",
    "line.fit(x,y) # Train the model with the training data set\n",
    "\n",
    "# The coefficients\n",
    "#zip(features, line.intercept_)"
   ]
  },
  {
   "cell_type": "markdown",
   "metadata": {},
   "source": [
    "###### Plot the line\n",
    "The regression line can be plotted over the training data to see how best the line fits the data."
   ]
  },
  {
   "cell_type": "code",
   "execution_count": 354,
   "metadata": {},
   "outputs": [
    {
     "data": {
      "text/plain": [
       "Text(0,0.5,'Emissions')"
      ]
     },
     "execution_count": 354,
     "metadata": {},
     "output_type": "execute_result"
    },
    {
     "data": {
      "image/png": "[encoded data removed]",
      "text/plain": [
       "<Figure size 432x288 with 1 Axes>"
      ]
     },
     "metadata": {},
     "output_type": "display_data"
    }
   ],
   "source": [
    "plt.scatter(x, y,  color='blue')\n",
    "reg_line = line.coef_*x + line.intercept_\n",
    "plt.plot(x, reg_line, '-r')\n",
    "plt.xlabel(\"COMB_MPG_FC\")\n",
    "plt.ylabel(\"Emissions\")"
   ]
  },
  {
   "cell_type": "markdown",
   "metadata": {
    "button": false,
    "new_sheet": false,
    "run_control": {
     "read_only": false
    }
   },
   "source": [
    "#### Model evaluation\n",
    "- *Mean absolute error*: Average error\n",
    "- *Mean Squared Error (MSE)*: Average of the squared error\n",
    "- *Root Mean Squared Error* (RMSE)\n",
    "- *R-squared* : not an error, represents data fitness to regression line\n",
    "Goal: Maximise R-squared, minimise MSE"
   ]
  },
  {
   "cell_type": "code",
   "execution_count": 355,
   "metadata": {
    "button": false,
    "new_sheet": false,
    "run_control": {
     "read_only": false
    },
    "scrolled": true
   },
   "outputs": [],
   "source": [
    "from sklearn import metrics\n",
    "\n",
    "x_test = test_data[['COMB_MPG_FC']]\n",
    "y_test = test_data.CO2EMISSIONS\n",
    "\n",
    "y_pred = line.predict(x_test) # Calculate R-sqrd for the model using test data set"
   ]
  },
  {
   "cell_type": "code",
   "execution_count": 356,
   "metadata": {},
   "outputs": [
    {
     "data": {
      "image/png": "[encoded data removed]",
      "text/plain": [
       "<Figure size 288x288 with 1 Axes>"
      ]
     },
     "metadata": {},
     "output_type": "display_data"
    }
   ],
   "source": [
    "def DistributionPlot(RedFunction,BlueFunction,RedName,BlueName,Title ): # \n",
    "    width = 4 ; height = 4\n",
    "    plt.figure(figsize=(width, height))\n",
    "\n",
    "    ax1 = sns.distplot(RedFunction, hist=False, color=\"red\", label=RedName)\n",
    "    ax2 = sns.distplot(BlueFunction, hist=False, color=\"blue\", label=BlueName, ax=ax1)\n",
    "    \n",
    "    plt.title(Title)\n",
    "    plt.xlabel(\"COMB_MPG_FC\")\n",
    "    plt.ylabel(\"CO2 Emissions\")\n",
    "    plt.show() ; plt.close()\n",
    "\n",
    "Title=\"Distribution Plot: Predictions using training data vs training data distribution\"\n",
    "DistributionPlot(y_test,y_pred,\"Actual Values\",\"Predicted Values\",Title) "
   ]
  },
  {
   "cell_type": "code",
   "execution_count": 357,
   "metadata": {},
   "outputs": [
    {
     "name": "stdout",
     "output_type": "stream",
     "text": [
      "R-squared: 0.82\n",
      "MAE: 18.06\n",
      "MSE:728.08\n",
      "RMSE:26.98\n"
     ]
    }
   ],
   "source": [
    "print(\"R-squared: %.2f\" % line.score(x,y)) # Calculate R-sqrd for the model using test data set\n",
    "print(\"MAE: %.2f\" % metrics.mean_absolute_error(y_test, y_pred))\n",
    "print(\"MSE:%.2f\" % metrics.mean_squared_error(y_test, y_pred))\n",
    "print(\"RMSE:%.2f\" %  np.sqrt(metrics.mean_squared_error(y_test, y_pred)))"
   ]
  },
  {
   "cell_type": "code",
   "execution_count": 9,
   "metadata": {},
   "outputs": [
    {
     "data": {
      "text/html": [
       "<div>\n",
       "<style scoped>\n",
       "    .dataframe tbody tr th:only-of-type {\n",
       "        vertical-align: middle;\n",
       "    }\n",
       "\n",
       "    .dataframe tbody tr th {\n",
       "        vertical-align: top;\n",
       "    }\n",
       "\n",
       "    .dataframe thead th {\n",
       "        text-align: right;\n",
       "    }\n",
       "</style>\n",
       "<table border=\"1\" class=\"dataframe\">\n",
       "  <thead>\n",
       "    <tr style=\"text-align: right;\">\n",
       "      <th></th>\n",
       "      <th>Feature</th>\n",
       "      <th>MSE x10</th>\n",
       "      <th>R2-score (%)</th>\n",
       "    </tr>\n",
       "  </thead>\n",
       "  <tbody>\n",
       "    <tr>\n",
       "      <th>0</th>\n",
       "      <td>ENGINESIZE</td>\n",
       "      <td>85.989</td>\n",
       "      <td>76</td>\n",
       "    </tr>\n",
       "    <tr>\n",
       "      <th>1</th>\n",
       "      <td>CYLINDERS</td>\n",
       "      <td>113.180</td>\n",
       "      <td>73</td>\n",
       "    </tr>\n",
       "    <tr>\n",
       "      <th>2</th>\n",
       "      <td>City_FC</td>\n",
       "      <td>81.954</td>\n",
       "      <td>81</td>\n",
       "    </tr>\n",
       "    <tr>\n",
       "      <th>3</th>\n",
       "      <td>HWY_FC</td>\n",
       "      <td>100.843</td>\n",
       "      <td>74</td>\n",
       "    </tr>\n",
       "    <tr>\n",
       "      <th>4</th>\n",
       "      <td>COMB_FC</td>\n",
       "      <td>83.780</td>\n",
       "      <td>80</td>\n",
       "    </tr>\n",
       "  </tbody>\n",
       "</table>\n",
       "</div>"
      ],
      "text/plain": [
       "      Feature  MSE x10  R2-score (%)\n",
       "0  ENGINESIZE   85.989            76\n",
       "1   CYLINDERS  113.180            73\n",
       "2     City_FC   81.954            81\n",
       "3      HWY_FC  100.843            74\n",
       "4     COMB_FC   83.780            80"
      ]
     },
     "execution_count": 9,
     "metadata": {},
     "output_type": "execute_result"
    }
   ],
   "source": [
    "features = ['ENGINESIZE','CYLINDERS','City_FC','HWY_FC','COMB_FC','COMB_MPG_FC']\n",
    "slr_evaluation = {'Feature': features,\n",
    "#'Mean absolute error': [22.38,25.90,20.26,23.60,20.70,18.06],\n",
    "'MSE x10': [85.989,113.18,81.954,100.843,83.780,72.808],\n",
    "'R2-score (%)': [76,73,81,74,80,82]}\n",
    "slr_df = pd.DataFrame(slr_evaluation\n",
    "                      , columns=['Feature', \n",
    "                                 #'Mean absolute error',\n",
    "                                 'MSE x10','R2-score (%)'])\n",
    "slr_df.head()"
   ]
  },
  {
   "cell_type": "code",
   "execution_count": 11,
   "metadata": {},
   "outputs": [
    {
     "data": {
      "text/plain": [
       "<matplotlib.axes._subplots.AxesSubplot at 0x2c5551a9b38>"
      ]
     },
     "execution_count": 11,
     "metadata": {},
     "output_type": "execute_result"
    },
    {
     "data": {
      "image/png": "[encoded data removed]",
      "text/plain": [
       "<Figure size 432x288 with 1 Axes>"
      ]
     },
     "metadata": {
      "needs_background": "light"
     },
     "output_type": "display_data"
    }
   ],
   "source": [
    "# Set Feature as the index to read dataframe, and read all the features in once cycle (.sum())\n",
    "df = slr_df.groupby(['Feature'])[\n",
    "    #'Mean absolute error',\n",
    "    'MSE x10','R2-score (%)'].sum() \n",
    "df.plot(kind='barh') #(kind='bar')\n"
   ]
  },
  {
   "cell_type": "markdown",
   "metadata": {},
   "source": [
    "Based on the MSE and R-squared values, the results suggest that, if any of these variables were to be used individually to predict car emissions, the **best emissions predictors** would most likely be **fuel consumption (City_FC and COMB_FC)**"
   ]
  },
  {
   "cell_type": "markdown",
   "metadata": {},
   "source": [
    "#### Thank you for taking the time to look through this notebook. Please share your feedback to me via email by clicking on the image to be directed to my page \n",
    "\n",
    "<a href=\"https://wgova.github.io/Profile/\"><img src = \"https://wgova.github.io//Profile/assets/images/profile.png\" width = 100, align = \"center\"></a>\n",
    "\n"
   ]
  },
  {
   "cell_type": "code",
   "execution_count": null,
   "metadata": {},
   "outputs": [],
   "source": []
  }
 ],
 "metadata": {
  "kernelspec": {
   "display_name": "Python 3",
   "language": "python",
   "name": "python3"
  },
  "language_info": {
   "codemirror_mode": {
    "name": "ipython",
    "version": 3
   },
   "file_extension": ".py",
   "mimetype": "text/x-python",
   "name": "python",
   "nbconvert_exporter": "python",
   "pygments_lexer": "ipython3",
   "version": "3.6.5"
  },
  "widgets": {
   "state": {},
   "version": "1.1.2"
  }
 },
 "nbformat": 4,
 "nbformat_minor": 2
}
